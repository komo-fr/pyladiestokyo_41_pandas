{
 "cells": [
  {
   "cell_type": "code",
   "execution_count": 1,
   "metadata": {
    "ExecuteTime": {
     "end_time": "2019-05-26T02:58:34.615174Z",
     "start_time": "2019-05-26T02:58:34.603502Z"
    }
   },
   "outputs": [
    {
     "data": {
      "text/plain": [
       "'0.23.4'"
      ]
     },
     "execution_count": 1,
     "metadata": {},
     "output_type": "execute_result"
    }
   ],
   "source": [
    "import pandas as pd\n",
    "import numpy as np\n",
    "\n",
    "pd.__version__"
   ]
  },
  {
   "cell_type": "markdown",
   "metadata": {
    "ExecuteTime": {
     "end_time": "2019-05-25T02:15:10.812672Z",
     "start_time": "2019-05-25T02:15:10.720048Z"
    }
   },
   "source": [
    "<img src=\"img/styling_overview.png\">"
   ]
  },
  {
   "cell_type": "markdown",
   "metadata": {},
   "source": [
    "# 最初の一歩"
   ]
  },
  {
   "cell_type": "code",
   "execution_count": 3,
   "metadata": {
    "ExecuteTime": {
     "end_time": "2019-05-26T02:58:42.782997Z",
     "start_time": "2019-05-26T02:58:42.739512Z"
    }
   },
   "outputs": [],
   "source": [
    "exam_df = pd.read_csv('data/styling_sample.csv', index_col='index', encoding='utf-8')"
   ]
  },
  {
   "cell_type": "code",
   "execution_count": 4,
   "metadata": {
    "ExecuteTime": {
     "end_time": "2019-05-26T02:58:43.499902Z",
     "start_time": "2019-05-26T02:58:43.483873Z"
    }
   },
   "outputs": [
    {
     "data": {
      "text/html": [
       "<div>\n",
       "<style scoped>\n",
       "    .dataframe tbody tr th:only-of-type {\n",
       "        vertical-align: middle;\n",
       "    }\n",
       "\n",
       "    .dataframe tbody tr th {\n",
       "        vertical-align: top;\n",
       "    }\n",
       "\n",
       "    .dataframe thead th {\n",
       "        text-align: right;\n",
       "    }\n",
       "</style>\n",
       "<table border=\"1\" class=\"dataframe\">\n",
       "  <thead>\n",
       "    <tr style=\"text-align: right;\">\n",
       "      <th></th>\n",
       "      <th>Araki</th>\n",
       "      <th>Baba</th>\n",
       "      <th>Chou</th>\n",
       "    </tr>\n",
       "    <tr>\n",
       "      <th>index</th>\n",
       "      <th></th>\n",
       "      <th></th>\n",
       "      <th></th>\n",
       "    </tr>\n",
       "  </thead>\n",
       "  <tbody>\n",
       "    <tr>\n",
       "      <th>国語</th>\n",
       "      <td>75</td>\n",
       "      <td>80</td>\n",
       "      <td>95</td>\n",
       "    </tr>\n",
       "    <tr>\n",
       "      <th>数学</th>\n",
       "      <td>55</td>\n",
       "      <td>80</td>\n",
       "      <td>70</td>\n",
       "    </tr>\n",
       "    <tr>\n",
       "      <th>理科</th>\n",
       "      <td>80</td>\n",
       "      <td>90</td>\n",
       "      <td>85</td>\n",
       "    </tr>\n",
       "    <tr>\n",
       "      <th>社会</th>\n",
       "      <td>90</td>\n",
       "      <td>30</td>\n",
       "      <td>70</td>\n",
       "    </tr>\n",
       "  </tbody>\n",
       "</table>\n",
       "</div>"
      ],
      "text/plain": [
       "       Araki  Baba  Chou\n",
       "index                   \n",
       "国語        75    80    95\n",
       "数学        55    80    70\n",
       "理科        80    90    85\n",
       "社会        90    30    70"
      ]
     },
     "execution_count": 4,
     "metadata": {},
     "output_type": "execute_result"
    }
   ],
   "source": [
    "exam_df"
   ]
  },
  {
   "cell_type": "code",
   "execution_count": 7,
   "metadata": {
    "ExecuteTime": {
     "end_time": "2019-05-26T02:58:51.039150Z",
     "start_time": "2019-05-26T02:58:51.002781Z"
    }
   },
   "outputs": [
    {
     "data": {
      "text/html": [
       "<style  type=\"text/css\" >\n",
       "</style>  \n",
       "<table id=\"T_309415cc_7f62_11e9_ad6a_94942601c652\" > \n",
       "<thead>    <tr> \n",
       "        <th class=\"blank level0\" ></th> \n",
       "        <th class=\"col_heading level0 col0\" >Araki</th> \n",
       "        <th class=\"col_heading level0 col1\" >Baba</th> \n",
       "        <th class=\"col_heading level0 col2\" >Chou</th> \n",
       "    </tr>    <tr> \n",
       "        <th class=\"index_name level0\" >index</th> \n",
       "        <th class=\"blank\" ></th> \n",
       "        <th class=\"blank\" ></th> \n",
       "        <th class=\"blank\" ></th> \n",
       "    </tr></thead> \n",
       "<tbody>    <tr> \n",
       "        <th id=\"T_309415cc_7f62_11e9_ad6a_94942601c652level0_row0\" class=\"row_heading level0 row0\" >国語</th> \n",
       "        <td id=\"T_309415cc_7f62_11e9_ad6a_94942601c652row0_col0\" class=\"data row0 col0\" >75</td> \n",
       "        <td id=\"T_309415cc_7f62_11e9_ad6a_94942601c652row0_col1\" class=\"data row0 col1\" >80</td> \n",
       "        <td id=\"T_309415cc_7f62_11e9_ad6a_94942601c652row0_col2\" class=\"data row0 col2\" >95</td> \n",
       "    </tr>    <tr> \n",
       "        <th id=\"T_309415cc_7f62_11e9_ad6a_94942601c652level0_row1\" class=\"row_heading level0 row1\" >数学</th> \n",
       "        <td id=\"T_309415cc_7f62_11e9_ad6a_94942601c652row1_col0\" class=\"data row1 col0\" >55</td> \n",
       "        <td id=\"T_309415cc_7f62_11e9_ad6a_94942601c652row1_col1\" class=\"data row1 col1\" >80</td> \n",
       "        <td id=\"T_309415cc_7f62_11e9_ad6a_94942601c652row1_col2\" class=\"data row1 col2\" >70</td> \n",
       "    </tr>    <tr> \n",
       "        <th id=\"T_309415cc_7f62_11e9_ad6a_94942601c652level0_row2\" class=\"row_heading level0 row2\" >理科</th> \n",
       "        <td id=\"T_309415cc_7f62_11e9_ad6a_94942601c652row2_col0\" class=\"data row2 col0\" >80</td> \n",
       "        <td id=\"T_309415cc_7f62_11e9_ad6a_94942601c652row2_col1\" class=\"data row2 col1\" >90</td> \n",
       "        <td id=\"T_309415cc_7f62_11e9_ad6a_94942601c652row2_col2\" class=\"data row2 col2\" >85</td> \n",
       "    </tr>    <tr> \n",
       "        <th id=\"T_309415cc_7f62_11e9_ad6a_94942601c652level0_row3\" class=\"row_heading level0 row3\" >社会</th> \n",
       "        <td id=\"T_309415cc_7f62_11e9_ad6a_94942601c652row3_col0\" class=\"data row3 col0\" >90</td> \n",
       "        <td id=\"T_309415cc_7f62_11e9_ad6a_94942601c652row3_col1\" class=\"data row3 col1\" >30</td> \n",
       "        <td id=\"T_309415cc_7f62_11e9_ad6a_94942601c652row3_col2\" class=\"data row3 col2\" >70</td> \n",
       "    </tr></tbody> \n",
       "</table> "
      ],
      "text/plain": [
       "<pandas.io.formats.style.Styler at 0x117f8aeb8>"
      ]
     },
     "execution_count": 7,
     "metadata": {},
     "output_type": "execute_result"
    }
   ],
   "source": [
    "exam_df.style"
   ]
  },
  {
   "cell_type": "code",
   "execution_count": 8,
   "metadata": {
    "ExecuteTime": {
     "end_time": "2019-05-26T02:58:51.533111Z",
     "start_time": "2019-05-26T02:58:51.525166Z"
    }
   },
   "outputs": [
    {
     "data": {
      "text/plain": [
       "pandas.io.formats.style.Styler"
      ]
     },
     "execution_count": 8,
     "metadata": {},
     "output_type": "execute_result"
    }
   ],
   "source": [
    "type(exam_df.style)"
   ]
  },
  {
   "cell_type": "code",
   "execution_count": 9,
   "metadata": {
    "ExecuteTime": {
     "end_time": "2019-05-26T02:58:52.560621Z",
     "start_time": "2019-05-26T02:58:52.549108Z"
    }
   },
   "outputs": [
    {
     "data": {
      "text/plain": [
       "['<style  type=\"text/css\" >',\n",
       " '</style>  ',\n",
       " '<table id=\"T_3180095a_7f62_11e9_abcd_94942601c652\" > ',\n",
       " '<thead>    <tr> ',\n",
       " '        <th class=\"blank level0\" ></th> ',\n",
       " '        <th class=\"col_heading level0 col0\" >Araki</th> ',\n",
       " '        <th class=\"col_heading level0 col1\" >Baba</th> ',\n",
       " '        <th class=\"col_heading level0 col2\" >Chou</th> ',\n",
       " '    </tr>    <tr> ',\n",
       " '        <th class=\"index_name level0\" >index</th> ',\n",
       " '        <th class=\"blank\" ></th> ',\n",
       " '        <th class=\"blank\" ></th> ',\n",
       " '        <th class=\"blank\" ></th> ',\n",
       " '    </tr></thead> ',\n",
       " '<tbody>    <tr> ',\n",
       " '        <th id=\"T_3180095a_7f62_11e9_abcd_94942601c652level0_row0\" class=\"row_heading level0 row0\" >国語</th> ',\n",
       " '        <td id=\"T_3180095a_7f62_11e9_abcd_94942601c652row0_col0\" class=\"data row0 col0\" >75</td> ',\n",
       " '        <td id=\"T_3180095a_7f62_11e9_abcd_94942601c652row0_col1\" class=\"data row0 col1\" >80</td> ',\n",
       " '        <td id=\"T_3180095a_7f62_11e9_abcd_94942601c652row0_col2\" class=\"data row0 col2\" >95</td> ',\n",
       " '    </tr>    <tr> ']"
      ]
     },
     "execution_count": 9,
     "metadata": {},
     "output_type": "execute_result"
    }
   ],
   "source": [
    "# のぞいてみよう\n",
    "exam_df.style.render().split('\\n')[:20]"
   ]
  },
  {
   "cell_type": "code",
   "execution_count": 10,
   "metadata": {
    "ExecuteTime": {
     "end_time": "2019-05-26T02:58:53.146833Z",
     "start_time": "2019-05-26T02:58:53.142144Z"
    }
   },
   "outputs": [],
   "source": [
    "# スタイル関数の定義\n",
    "def color_all_red(val):\n",
    "    return 'color: red'"
   ]
  },
  {
   "cell_type": "code",
   "execution_count": 11,
   "metadata": {
    "ExecuteTime": {
     "end_time": "2019-05-26T02:58:53.581029Z",
     "start_time": "2019-05-26T02:58:53.542877Z"
    }
   },
   "outputs": [
    {
     "data": {
      "text/html": [
       "<style  type=\"text/css\" >\n",
       "    #T_321bd934_7f62_11e9_b97d_94942601c652row0_col0 {\n",
       "            color:  red;\n",
       "        }    #T_321bd934_7f62_11e9_b97d_94942601c652row0_col1 {\n",
       "            color:  red;\n",
       "        }    #T_321bd934_7f62_11e9_b97d_94942601c652row0_col2 {\n",
       "            color:  red;\n",
       "        }    #T_321bd934_7f62_11e9_b97d_94942601c652row1_col0 {\n",
       "            color:  red;\n",
       "        }    #T_321bd934_7f62_11e9_b97d_94942601c652row1_col1 {\n",
       "            color:  red;\n",
       "        }    #T_321bd934_7f62_11e9_b97d_94942601c652row1_col2 {\n",
       "            color:  red;\n",
       "        }    #T_321bd934_7f62_11e9_b97d_94942601c652row2_col0 {\n",
       "            color:  red;\n",
       "        }    #T_321bd934_7f62_11e9_b97d_94942601c652row2_col1 {\n",
       "            color:  red;\n",
       "        }    #T_321bd934_7f62_11e9_b97d_94942601c652row2_col2 {\n",
       "            color:  red;\n",
       "        }    #T_321bd934_7f62_11e9_b97d_94942601c652row3_col0 {\n",
       "            color:  red;\n",
       "        }    #T_321bd934_7f62_11e9_b97d_94942601c652row3_col1 {\n",
       "            color:  red;\n",
       "        }    #T_321bd934_7f62_11e9_b97d_94942601c652row3_col2 {\n",
       "            color:  red;\n",
       "        }</style>  \n",
       "<table id=\"T_321bd934_7f62_11e9_b97d_94942601c652\" > \n",
       "<thead>    <tr> \n",
       "        <th class=\"blank level0\" ></th> \n",
       "        <th class=\"col_heading level0 col0\" >Araki</th> \n",
       "        <th class=\"col_heading level0 col1\" >Baba</th> \n",
       "        <th class=\"col_heading level0 col2\" >Chou</th> \n",
       "    </tr>    <tr> \n",
       "        <th class=\"index_name level0\" >index</th> \n",
       "        <th class=\"blank\" ></th> \n",
       "        <th class=\"blank\" ></th> \n",
       "        <th class=\"blank\" ></th> \n",
       "    </tr></thead> \n",
       "<tbody>    <tr> \n",
       "        <th id=\"T_321bd934_7f62_11e9_b97d_94942601c652level0_row0\" class=\"row_heading level0 row0\" >国語</th> \n",
       "        <td id=\"T_321bd934_7f62_11e9_b97d_94942601c652row0_col0\" class=\"data row0 col0\" >75</td> \n",
       "        <td id=\"T_321bd934_7f62_11e9_b97d_94942601c652row0_col1\" class=\"data row0 col1\" >80</td> \n",
       "        <td id=\"T_321bd934_7f62_11e9_b97d_94942601c652row0_col2\" class=\"data row0 col2\" >95</td> \n",
       "    </tr>    <tr> \n",
       "        <th id=\"T_321bd934_7f62_11e9_b97d_94942601c652level0_row1\" class=\"row_heading level0 row1\" >数学</th> \n",
       "        <td id=\"T_321bd934_7f62_11e9_b97d_94942601c652row1_col0\" class=\"data row1 col0\" >55</td> \n",
       "        <td id=\"T_321bd934_7f62_11e9_b97d_94942601c652row1_col1\" class=\"data row1 col1\" >80</td> \n",
       "        <td id=\"T_321bd934_7f62_11e9_b97d_94942601c652row1_col2\" class=\"data row1 col2\" >70</td> \n",
       "    </tr>    <tr> \n",
       "        <th id=\"T_321bd934_7f62_11e9_b97d_94942601c652level0_row2\" class=\"row_heading level0 row2\" >理科</th> \n",
       "        <td id=\"T_321bd934_7f62_11e9_b97d_94942601c652row2_col0\" class=\"data row2 col0\" >80</td> \n",
       "        <td id=\"T_321bd934_7f62_11e9_b97d_94942601c652row2_col1\" class=\"data row2 col1\" >90</td> \n",
       "        <td id=\"T_321bd934_7f62_11e9_b97d_94942601c652row2_col2\" class=\"data row2 col2\" >85</td> \n",
       "    </tr>    <tr> \n",
       "        <th id=\"T_321bd934_7f62_11e9_b97d_94942601c652level0_row3\" class=\"row_heading level0 row3\" >社会</th> \n",
       "        <td id=\"T_321bd934_7f62_11e9_b97d_94942601c652row3_col0\" class=\"data row3 col0\" >90</td> \n",
       "        <td id=\"T_321bd934_7f62_11e9_b97d_94942601c652row3_col1\" class=\"data row3 col1\" >30</td> \n",
       "        <td id=\"T_321bd934_7f62_11e9_b97d_94942601c652row3_col2\" class=\"data row3 col2\" >70</td> \n",
       "    </tr></tbody> \n",
       "</table> "
      ],
      "text/plain": [
       "<pandas.io.formats.style.Styler at 0x118320198>"
      ]
     },
     "execution_count": 11,
     "metadata": {},
     "output_type": "execute_result"
    }
   ],
   "source": [
    "# 全てのセルの文字色を赤くする\n",
    "s = exam_df.style.applymap(color_all_red)\n",
    "s"
   ]
  },
  {
   "cell_type": "code",
   "execution_count": 12,
   "metadata": {
    "ExecuteTime": {
     "end_time": "2019-05-26T02:58:54.097368Z",
     "start_time": "2019-05-26T02:58:54.068379Z"
    }
   },
   "outputs": [
    {
     "data": {
      "text/plain": [
       "['<style  type=\"text/css\" >',\n",
       " '    #T_326adb68_7f62_11e9_9ebd_94942601c652row0_col0 {',\n",
       " '            color:  red;',\n",
       " '            color:  red;',\n",
       " '        }    #T_326adb68_7f62_11e9_9ebd_94942601c652row0_col1 {',\n",
       " '            color:  red;',\n",
       " '            color:  red;',\n",
       " '        }    #T_326adb68_7f62_11e9_9ebd_94942601c652row0_col2 {',\n",
       " '            color:  red;',\n",
       " '            color:  red;',\n",
       " '        }    #T_326adb68_7f62_11e9_9ebd_94942601c652row1_col0 {',\n",
       " '            color:  red;',\n",
       " '            color:  red;',\n",
       " '        }    #T_326adb68_7f62_11e9_9ebd_94942601c652row1_col1 {',\n",
       " '            color:  red;',\n",
       " '            color:  red;',\n",
       " '        }    #T_326adb68_7f62_11e9_9ebd_94942601c652row1_col2 {',\n",
       " '            color:  red;',\n",
       " '            color:  red;',\n",
       " '        }    #T_326adb68_7f62_11e9_9ebd_94942601c652row2_col0 {']"
      ]
     },
     "execution_count": 12,
     "metadata": {},
     "output_type": "execute_result"
    }
   ],
   "source": [
    "s.render().split('\\n')[:20]"
   ]
  },
  {
   "cell_type": "code",
   "execution_count": 13,
   "metadata": {
    "ExecuteTime": {
     "end_time": "2019-05-26T02:58:54.538910Z",
     "start_time": "2019-05-26T02:58:54.531231Z"
    }
   },
   "outputs": [
    {
     "data": {
      "text/plain": [
       "pandas.io.formats.style.Styler"
      ]
     },
     "execution_count": 13,
     "metadata": {},
     "output_type": "execute_result"
    }
   ],
   "source": [
    "type(s)"
   ]
  },
  {
   "cell_type": "markdown",
   "metadata": {},
   "source": [
    "やっていることは次の2点です\n",
    "- **スタイル関数**を用意する\n",
    "    - ここでは、`color_all_red`関数を自分で定義している\n",
    "- スタイル関数を、`apply_map`メソッドを使って要素全体に適用する\n",
    "    - `apply_map`は`Styler`オブジェクトを返す"
   ]
  },
  {
   "cell_type": "markdown",
   "metadata": {},
   "source": [
    "# データによって色を変えてみよう\n",
    "## 赤点（60点未満）を赤字で、それ以外を黒字で表示する\n",
    "先ほど作ったスタイル関数`color_all_red`は、「常に`'color: red'`（文字色を赤にする）を返す」という処理でした。   \n",
    "ですが実務的には「値が●●以上のセルは、赤文字にする」「nullのセルは背景色をグレーにする」など、「データの条件によってスタイルを変える」ことが普通です。    \n",
    "そのため実際には、スタイル関数の中でセルの値に応じて異なるスタイルを返す処理を書きます。   \n",
    "   \n",
    "以下は、「60点未満の値だったら赤字で、それ以外の場合は黒字で表示する」スタイル関数を適用する例です。"
   ]
  },
  {
   "cell_type": "code",
   "execution_count": 14,
   "metadata": {
    "ExecuteTime": {
     "end_time": "2019-05-26T02:58:55.954123Z",
     "start_time": "2019-05-26T02:58:55.948969Z"
    }
   },
   "outputs": [],
   "source": [
    "def color_red_akaten(val):\n",
    "    color = 'red' if val < 60 else 'black'\n",
    "    return f'color: {color}'"
   ]
  },
  {
   "cell_type": "code",
   "execution_count": 15,
   "metadata": {
    "ExecuteTime": {
     "end_time": "2019-05-26T02:58:56.579255Z",
     "start_time": "2019-05-26T02:58:56.549075Z"
    }
   },
   "outputs": [
    {
     "data": {
      "text/html": [
       "<style  type=\"text/css\" >\n",
       "    #T_33e5ae0c_7f62_11e9_bd29_94942601c652row0_col0 {\n",
       "            color:  black;\n",
       "        }    #T_33e5ae0c_7f62_11e9_bd29_94942601c652row0_col1 {\n",
       "            color:  black;\n",
       "        }    #T_33e5ae0c_7f62_11e9_bd29_94942601c652row0_col2 {\n",
       "            color:  black;\n",
       "        }    #T_33e5ae0c_7f62_11e9_bd29_94942601c652row1_col0 {\n",
       "            color:  red;\n",
       "        }    #T_33e5ae0c_7f62_11e9_bd29_94942601c652row1_col1 {\n",
       "            color:  black;\n",
       "        }    #T_33e5ae0c_7f62_11e9_bd29_94942601c652row1_col2 {\n",
       "            color:  black;\n",
       "        }    #T_33e5ae0c_7f62_11e9_bd29_94942601c652row2_col0 {\n",
       "            color:  black;\n",
       "        }    #T_33e5ae0c_7f62_11e9_bd29_94942601c652row2_col1 {\n",
       "            color:  black;\n",
       "        }    #T_33e5ae0c_7f62_11e9_bd29_94942601c652row2_col2 {\n",
       "            color:  black;\n",
       "        }    #T_33e5ae0c_7f62_11e9_bd29_94942601c652row3_col0 {\n",
       "            color:  black;\n",
       "        }    #T_33e5ae0c_7f62_11e9_bd29_94942601c652row3_col1 {\n",
       "            color:  red;\n",
       "        }    #T_33e5ae0c_7f62_11e9_bd29_94942601c652row3_col2 {\n",
       "            color:  black;\n",
       "        }</style>  \n",
       "<table id=\"T_33e5ae0c_7f62_11e9_bd29_94942601c652\" > \n",
       "<thead>    <tr> \n",
       "        <th class=\"blank level0\" ></th> \n",
       "        <th class=\"col_heading level0 col0\" >Araki</th> \n",
       "        <th class=\"col_heading level0 col1\" >Baba</th> \n",
       "        <th class=\"col_heading level0 col2\" >Chou</th> \n",
       "    </tr>    <tr> \n",
       "        <th class=\"index_name level0\" >index</th> \n",
       "        <th class=\"blank\" ></th> \n",
       "        <th class=\"blank\" ></th> \n",
       "        <th class=\"blank\" ></th> \n",
       "    </tr></thead> \n",
       "<tbody>    <tr> \n",
       "        <th id=\"T_33e5ae0c_7f62_11e9_bd29_94942601c652level0_row0\" class=\"row_heading level0 row0\" >国語</th> \n",
       "        <td id=\"T_33e5ae0c_7f62_11e9_bd29_94942601c652row0_col0\" class=\"data row0 col0\" >75</td> \n",
       "        <td id=\"T_33e5ae0c_7f62_11e9_bd29_94942601c652row0_col1\" class=\"data row0 col1\" >80</td> \n",
       "        <td id=\"T_33e5ae0c_7f62_11e9_bd29_94942601c652row0_col2\" class=\"data row0 col2\" >95</td> \n",
       "    </tr>    <tr> \n",
       "        <th id=\"T_33e5ae0c_7f62_11e9_bd29_94942601c652level0_row1\" class=\"row_heading level0 row1\" >数学</th> \n",
       "        <td id=\"T_33e5ae0c_7f62_11e9_bd29_94942601c652row1_col0\" class=\"data row1 col0\" >55</td> \n",
       "        <td id=\"T_33e5ae0c_7f62_11e9_bd29_94942601c652row1_col1\" class=\"data row1 col1\" >80</td> \n",
       "        <td id=\"T_33e5ae0c_7f62_11e9_bd29_94942601c652row1_col2\" class=\"data row1 col2\" >70</td> \n",
       "    </tr>    <tr> \n",
       "        <th id=\"T_33e5ae0c_7f62_11e9_bd29_94942601c652level0_row2\" class=\"row_heading level0 row2\" >理科</th> \n",
       "        <td id=\"T_33e5ae0c_7f62_11e9_bd29_94942601c652row2_col0\" class=\"data row2 col0\" >80</td> \n",
       "        <td id=\"T_33e5ae0c_7f62_11e9_bd29_94942601c652row2_col1\" class=\"data row2 col1\" >90</td> \n",
       "        <td id=\"T_33e5ae0c_7f62_11e9_bd29_94942601c652row2_col2\" class=\"data row2 col2\" >85</td> \n",
       "    </tr>    <tr> \n",
       "        <th id=\"T_33e5ae0c_7f62_11e9_bd29_94942601c652level0_row3\" class=\"row_heading level0 row3\" >社会</th> \n",
       "        <td id=\"T_33e5ae0c_7f62_11e9_bd29_94942601c652row3_col0\" class=\"data row3 col0\" >90</td> \n",
       "        <td id=\"T_33e5ae0c_7f62_11e9_bd29_94942601c652row3_col1\" class=\"data row3 col1\" >30</td> \n",
       "        <td id=\"T_33e5ae0c_7f62_11e9_bd29_94942601c652row3_col2\" class=\"data row3 col2\" >70</td> \n",
       "    </tr></tbody> \n",
       "</table> "
      ],
      "text/plain": [
       "<pandas.io.formats.style.Styler at 0x118327dd8>"
      ]
     },
     "execution_count": 15,
     "metadata": {},
     "output_type": "execute_result"
    }
   ],
   "source": [
    "s = exam_df.style.applymap(color_red_akaten)\n",
    "s"
   ]
  },
  {
   "cell_type": "code",
   "execution_count": 16,
   "metadata": {
    "ExecuteTime": {
     "end_time": "2019-05-26T02:58:57.260473Z",
     "start_time": "2019-05-26T02:58:57.233696Z"
    }
   },
   "outputs": [
    {
     "data": {
      "text/plain": [
       "['<style  type=\"text/css\" >',\n",
       " '    #T_344d8ae8_7f62_11e9_b489_94942601c652row0_col0 {',\n",
       " '            color:  black;',\n",
       " '            color:  black;',\n",
       " '        }    #T_344d8ae8_7f62_11e9_b489_94942601c652row0_col1 {',\n",
       " '            color:  black;',\n",
       " '            color:  black;',\n",
       " '        }    #T_344d8ae8_7f62_11e9_b489_94942601c652row0_col2 {',\n",
       " '            color:  black;',\n",
       " '            color:  black;',\n",
       " '        }    #T_344d8ae8_7f62_11e9_b489_94942601c652row1_col0 {',\n",
       " '            color:  red;',\n",
       " '            color:  red;',\n",
       " '        }    #T_344d8ae8_7f62_11e9_b489_94942601c652row1_col1 {',\n",
       " '            color:  black;',\n",
       " '            color:  black;',\n",
       " '        }    #T_344d8ae8_7f62_11e9_b489_94942601c652row1_col2 {',\n",
       " '            color:  black;',\n",
       " '            color:  black;',\n",
       " '        }    #T_344d8ae8_7f62_11e9_b489_94942601c652row2_col0 {']"
      ]
     },
     "execution_count": 16,
     "metadata": {},
     "output_type": "execute_result"
    }
   ],
   "source": [
    "s.render().split('\\n')[:20]"
   ]
  },
  {
   "cell_type": "markdown",
   "metadata": {},
   "source": [
    "### 演習問題\n",
    "「80点以上のセルの背景色を水色にする」ように、スタイル関数を変えてみよう。"
   ]
  },
  {
   "cell_type": "markdown",
   "metadata": {},
   "source": [
    "# 列全体、行全体\n",
    "先ほどまでの「値が負値かどうか」「値がnullかどうか」は、その要素単体を見れば判断できました。   \n",
    "では、「全ての行で一番大きい値の背景色を黄色にする」「全ての列で一番小さい値の文字を太字にする」といった場合はどうすればよいでしょうか。   \n",
    "このようなケースでは、要素単体の値からは判断できないので、「列全体」「行全体」「テーブル全体」を見て判断する必要があります。   \n",
    "このような場合は、 `apply_map` ではなく、`apply`を使います。  \n",
    "`apply`が返す値をイメージしやすくするため、まずは「常に背景色を黄色にする」関数を作成します。"
   ]
  },
  {
   "cell_type": "code",
   "execution_count": 17,
   "metadata": {
    "ExecuteTime": {
     "end_time": "2019-05-26T02:58:58.300222Z",
     "start_time": "2019-05-26T02:58:58.294456Z"
    }
   },
   "outputs": [],
   "source": [
    "def highlight_green_max(series):\n",
    "    # 最大値だったらyellow, それ以外だったらnone(スタイルなし)にする\n",
    "    color_list = ['lightgreen' if val == series.max() else 'none' for val in series]\n",
    "    \n",
    "    # 中身の確認\n",
    "    print(color_list)\n",
    "    \n",
    "    return [f'background-color: {color}' for color in color_list]"
   ]
  },
  {
   "cell_type": "code",
   "execution_count": 18,
   "metadata": {
    "ExecuteTime": {
     "end_time": "2019-05-26T02:58:58.755009Z",
     "start_time": "2019-05-26T02:58:58.723671Z"
    }
   },
   "outputs": [
    {
     "name": "stdout",
     "output_type": "stream",
     "text": [
      "['none', 'none', 'none', 'lightgreen']\n",
      "['none', 'none', 'lightgreen', 'none']\n",
      "['lightgreen', 'none', 'none', 'none']\n"
     ]
    },
    {
     "data": {
      "text/html": [
       "<style  type=\"text/css\" >\n",
       "    #T_35317b92_7f62_11e9_860e_94942601c652row0_col0 {\n",
       "            background-color:  none;\n",
       "        }    #T_35317b92_7f62_11e9_860e_94942601c652row0_col1 {\n",
       "            background-color:  none;\n",
       "        }    #T_35317b92_7f62_11e9_860e_94942601c652row0_col2 {\n",
       "            background-color:  lightgreen;\n",
       "        }    #T_35317b92_7f62_11e9_860e_94942601c652row1_col0 {\n",
       "            background-color:  none;\n",
       "        }    #T_35317b92_7f62_11e9_860e_94942601c652row1_col1 {\n",
       "            background-color:  none;\n",
       "        }    #T_35317b92_7f62_11e9_860e_94942601c652row1_col2 {\n",
       "            background-color:  none;\n",
       "        }    #T_35317b92_7f62_11e9_860e_94942601c652row2_col0 {\n",
       "            background-color:  none;\n",
       "        }    #T_35317b92_7f62_11e9_860e_94942601c652row2_col1 {\n",
       "            background-color:  lightgreen;\n",
       "        }    #T_35317b92_7f62_11e9_860e_94942601c652row2_col2 {\n",
       "            background-color:  none;\n",
       "        }    #T_35317b92_7f62_11e9_860e_94942601c652row3_col0 {\n",
       "            background-color:  lightgreen;\n",
       "        }    #T_35317b92_7f62_11e9_860e_94942601c652row3_col1 {\n",
       "            background-color:  none;\n",
       "        }    #T_35317b92_7f62_11e9_860e_94942601c652row3_col2 {\n",
       "            background-color:  none;\n",
       "        }</style>  \n",
       "<table id=\"T_35317b92_7f62_11e9_860e_94942601c652\" > \n",
       "<thead>    <tr> \n",
       "        <th class=\"blank level0\" ></th> \n",
       "        <th class=\"col_heading level0 col0\" >Araki</th> \n",
       "        <th class=\"col_heading level0 col1\" >Baba</th> \n",
       "        <th class=\"col_heading level0 col2\" >Chou</th> \n",
       "    </tr>    <tr> \n",
       "        <th class=\"index_name level0\" >index</th> \n",
       "        <th class=\"blank\" ></th> \n",
       "        <th class=\"blank\" ></th> \n",
       "        <th class=\"blank\" ></th> \n",
       "    </tr></thead> \n",
       "<tbody>    <tr> \n",
       "        <th id=\"T_35317b92_7f62_11e9_860e_94942601c652level0_row0\" class=\"row_heading level0 row0\" >国語</th> \n",
       "        <td id=\"T_35317b92_7f62_11e9_860e_94942601c652row0_col0\" class=\"data row0 col0\" >75</td> \n",
       "        <td id=\"T_35317b92_7f62_11e9_860e_94942601c652row0_col1\" class=\"data row0 col1\" >80</td> \n",
       "        <td id=\"T_35317b92_7f62_11e9_860e_94942601c652row0_col2\" class=\"data row0 col2\" >95</td> \n",
       "    </tr>    <tr> \n",
       "        <th id=\"T_35317b92_7f62_11e9_860e_94942601c652level0_row1\" class=\"row_heading level0 row1\" >数学</th> \n",
       "        <td id=\"T_35317b92_7f62_11e9_860e_94942601c652row1_col0\" class=\"data row1 col0\" >55</td> \n",
       "        <td id=\"T_35317b92_7f62_11e9_860e_94942601c652row1_col1\" class=\"data row1 col1\" >80</td> \n",
       "        <td id=\"T_35317b92_7f62_11e9_860e_94942601c652row1_col2\" class=\"data row1 col2\" >70</td> \n",
       "    </tr>    <tr> \n",
       "        <th id=\"T_35317b92_7f62_11e9_860e_94942601c652level0_row2\" class=\"row_heading level0 row2\" >理科</th> \n",
       "        <td id=\"T_35317b92_7f62_11e9_860e_94942601c652row2_col0\" class=\"data row2 col0\" >80</td> \n",
       "        <td id=\"T_35317b92_7f62_11e9_860e_94942601c652row2_col1\" class=\"data row2 col1\" >90</td> \n",
       "        <td id=\"T_35317b92_7f62_11e9_860e_94942601c652row2_col2\" class=\"data row2 col2\" >85</td> \n",
       "    </tr>    <tr> \n",
       "        <th id=\"T_35317b92_7f62_11e9_860e_94942601c652level0_row3\" class=\"row_heading level0 row3\" >社会</th> \n",
       "        <td id=\"T_35317b92_7f62_11e9_860e_94942601c652row3_col0\" class=\"data row3 col0\" >90</td> \n",
       "        <td id=\"T_35317b92_7f62_11e9_860e_94942601c652row3_col1\" class=\"data row3 col1\" >30</td> \n",
       "        <td id=\"T_35317b92_7f62_11e9_860e_94942601c652row3_col2\" class=\"data row3 col2\" >70</td> \n",
       "    </tr></tbody> \n",
       "</table> "
      ],
      "text/plain": [
       "<pandas.io.formats.style.Styler at 0x1183276a0>"
      ]
     },
     "execution_count": 18,
     "metadata": {},
     "output_type": "execute_result"
    }
   ],
   "source": [
    "# 各生徒において一番成績がよかった教科はどれ？\n",
    "exam_df.style.apply(highlight_green_max, axis=0) # axis=0だと、列全体を見る"
   ]
  },
  {
   "cell_type": "code",
   "execution_count": 19,
   "metadata": {
    "ExecuteTime": {
     "end_time": "2019-05-26T02:58:59.142924Z",
     "start_time": "2019-05-26T02:58:59.103569Z"
    }
   },
   "outputs": [
    {
     "name": "stdout",
     "output_type": "stream",
     "text": [
      "['none', 'none', 'lightgreen']\n",
      "['none', 'lightgreen', 'none']\n",
      "['none', 'lightgreen', 'none']\n",
      "['lightgreen', 'none', 'none']\n"
     ]
    },
    {
     "data": {
      "text/html": [
       "<style  type=\"text/css\" >\n",
       "    #T_356caf34_7f62_11e9_97d8_94942601c652row0_col0 {\n",
       "            background-color:  none;\n",
       "        }    #T_356caf34_7f62_11e9_97d8_94942601c652row0_col1 {\n",
       "            background-color:  none;\n",
       "        }    #T_356caf34_7f62_11e9_97d8_94942601c652row0_col2 {\n",
       "            background-color:  lightgreen;\n",
       "        }    #T_356caf34_7f62_11e9_97d8_94942601c652row1_col0 {\n",
       "            background-color:  none;\n",
       "        }    #T_356caf34_7f62_11e9_97d8_94942601c652row1_col1 {\n",
       "            background-color:  lightgreen;\n",
       "        }    #T_356caf34_7f62_11e9_97d8_94942601c652row1_col2 {\n",
       "            background-color:  none;\n",
       "        }    #T_356caf34_7f62_11e9_97d8_94942601c652row2_col0 {\n",
       "            background-color:  none;\n",
       "        }    #T_356caf34_7f62_11e9_97d8_94942601c652row2_col1 {\n",
       "            background-color:  lightgreen;\n",
       "        }    #T_356caf34_7f62_11e9_97d8_94942601c652row2_col2 {\n",
       "            background-color:  none;\n",
       "        }    #T_356caf34_7f62_11e9_97d8_94942601c652row3_col0 {\n",
       "            background-color:  lightgreen;\n",
       "        }    #T_356caf34_7f62_11e9_97d8_94942601c652row3_col1 {\n",
       "            background-color:  none;\n",
       "        }    #T_356caf34_7f62_11e9_97d8_94942601c652row3_col2 {\n",
       "            background-color:  none;\n",
       "        }</style>  \n",
       "<table id=\"T_356caf34_7f62_11e9_97d8_94942601c652\" > \n",
       "<thead>    <tr> \n",
       "        <th class=\"blank level0\" ></th> \n",
       "        <th class=\"col_heading level0 col0\" >Araki</th> \n",
       "        <th class=\"col_heading level0 col1\" >Baba</th> \n",
       "        <th class=\"col_heading level0 col2\" >Chou</th> \n",
       "    </tr>    <tr> \n",
       "        <th class=\"index_name level0\" >index</th> \n",
       "        <th class=\"blank\" ></th> \n",
       "        <th class=\"blank\" ></th> \n",
       "        <th class=\"blank\" ></th> \n",
       "    </tr></thead> \n",
       "<tbody>    <tr> \n",
       "        <th id=\"T_356caf34_7f62_11e9_97d8_94942601c652level0_row0\" class=\"row_heading level0 row0\" >国語</th> \n",
       "        <td id=\"T_356caf34_7f62_11e9_97d8_94942601c652row0_col0\" class=\"data row0 col0\" >75</td> \n",
       "        <td id=\"T_356caf34_7f62_11e9_97d8_94942601c652row0_col1\" class=\"data row0 col1\" >80</td> \n",
       "        <td id=\"T_356caf34_7f62_11e9_97d8_94942601c652row0_col2\" class=\"data row0 col2\" >95</td> \n",
       "    </tr>    <tr> \n",
       "        <th id=\"T_356caf34_7f62_11e9_97d8_94942601c652level0_row1\" class=\"row_heading level0 row1\" >数学</th> \n",
       "        <td id=\"T_356caf34_7f62_11e9_97d8_94942601c652row1_col0\" class=\"data row1 col0\" >55</td> \n",
       "        <td id=\"T_356caf34_7f62_11e9_97d8_94942601c652row1_col1\" class=\"data row1 col1\" >80</td> \n",
       "        <td id=\"T_356caf34_7f62_11e9_97d8_94942601c652row1_col2\" class=\"data row1 col2\" >70</td> \n",
       "    </tr>    <tr> \n",
       "        <th id=\"T_356caf34_7f62_11e9_97d8_94942601c652level0_row2\" class=\"row_heading level0 row2\" >理科</th> \n",
       "        <td id=\"T_356caf34_7f62_11e9_97d8_94942601c652row2_col0\" class=\"data row2 col0\" >80</td> \n",
       "        <td id=\"T_356caf34_7f62_11e9_97d8_94942601c652row2_col1\" class=\"data row2 col1\" >90</td> \n",
       "        <td id=\"T_356caf34_7f62_11e9_97d8_94942601c652row2_col2\" class=\"data row2 col2\" >85</td> \n",
       "    </tr>    <tr> \n",
       "        <th id=\"T_356caf34_7f62_11e9_97d8_94942601c652level0_row3\" class=\"row_heading level0 row3\" >社会</th> \n",
       "        <td id=\"T_356caf34_7f62_11e9_97d8_94942601c652row3_col0\" class=\"data row3 col0\" >90</td> \n",
       "        <td id=\"T_356caf34_7f62_11e9_97d8_94942601c652row3_col1\" class=\"data row3 col1\" >30</td> \n",
       "        <td id=\"T_356caf34_7f62_11e9_97d8_94942601c652row3_col2\" class=\"data row3 col2\" >70</td> \n",
       "    </tr></tbody> \n",
       "</table> "
      ],
      "text/plain": [
       "<pandas.io.formats.style.Styler at 0x118327400>"
      ]
     },
     "execution_count": 19,
     "metadata": {},
     "output_type": "execute_result"
    }
   ],
   "source": [
    "exam_df.style.apply(highlight_green_max, axis=1) # axis=1だと、行全体を見る"
   ]
  },
  {
   "cell_type": "markdown",
   "metadata": {},
   "source": [
    "# `applymap`と`apply`のまとめ\n",
    "<img src=\"img/applymap_apply.png\">"
   ]
  },
  {
   "cell_type": "markdown",
   "metadata": {},
   "source": [
    "# スタイルの重ねがけ"
   ]
  },
  {
   "cell_type": "code",
   "execution_count": 20,
   "metadata": {
    "ExecuteTime": {
     "end_time": "2019-05-26T02:59:00.182431Z",
     "start_time": "2019-05-26T02:59:00.133060Z"
    }
   },
   "outputs": [
    {
     "name": "stdout",
     "output_type": "stream",
     "text": [
      "['none', 'none', 'none', 'lightgreen']\n",
      "['none', 'none', 'lightgreen', 'none']\n",
      "['lightgreen', 'none', 'none', 'none']\n"
     ]
    },
    {
     "data": {
      "text/html": [
       "<style  type=\"text/css\" >\n",
       "    #T_360ab9d4_7f62_11e9_8287_94942601c652row0_col0 {\n",
       "            background-color:  none;\n",
       "            color:  black;\n",
       "        }    #T_360ab9d4_7f62_11e9_8287_94942601c652row0_col1 {\n",
       "            background-color:  none;\n",
       "            color:  black;\n",
       "        }    #T_360ab9d4_7f62_11e9_8287_94942601c652row0_col2 {\n",
       "            background-color:  lightgreen;\n",
       "            color:  black;\n",
       "        }    #T_360ab9d4_7f62_11e9_8287_94942601c652row1_col0 {\n",
       "            background-color:  none;\n",
       "            color:  red;\n",
       "        }    #T_360ab9d4_7f62_11e9_8287_94942601c652row1_col1 {\n",
       "            background-color:  none;\n",
       "            color:  black;\n",
       "        }    #T_360ab9d4_7f62_11e9_8287_94942601c652row1_col2 {\n",
       "            background-color:  none;\n",
       "            color:  black;\n",
       "        }    #T_360ab9d4_7f62_11e9_8287_94942601c652row2_col0 {\n",
       "            background-color:  none;\n",
       "            color:  black;\n",
       "        }    #T_360ab9d4_7f62_11e9_8287_94942601c652row2_col1 {\n",
       "            background-color:  lightgreen;\n",
       "            color:  black;\n",
       "        }    #T_360ab9d4_7f62_11e9_8287_94942601c652row2_col2 {\n",
       "            background-color:  none;\n",
       "            color:  black;\n",
       "        }    #T_360ab9d4_7f62_11e9_8287_94942601c652row3_col0 {\n",
       "            background-color:  lightgreen;\n",
       "            color:  black;\n",
       "        }    #T_360ab9d4_7f62_11e9_8287_94942601c652row3_col1 {\n",
       "            background-color:  none;\n",
       "            color:  red;\n",
       "        }    #T_360ab9d4_7f62_11e9_8287_94942601c652row3_col2 {\n",
       "            background-color:  none;\n",
       "            color:  black;\n",
       "        }</style>  \n",
       "<table id=\"T_360ab9d4_7f62_11e9_8287_94942601c652\" > \n",
       "<thead>    <tr> \n",
       "        <th class=\"blank level0\" ></th> \n",
       "        <th class=\"col_heading level0 col0\" >Araki</th> \n",
       "        <th class=\"col_heading level0 col1\" >Baba</th> \n",
       "        <th class=\"col_heading level0 col2\" >Chou</th> \n",
       "    </tr>    <tr> \n",
       "        <th class=\"index_name level0\" >index</th> \n",
       "        <th class=\"blank\" ></th> \n",
       "        <th class=\"blank\" ></th> \n",
       "        <th class=\"blank\" ></th> \n",
       "    </tr></thead> \n",
       "<tbody>    <tr> \n",
       "        <th id=\"T_360ab9d4_7f62_11e9_8287_94942601c652level0_row0\" class=\"row_heading level0 row0\" >国語</th> \n",
       "        <td id=\"T_360ab9d4_7f62_11e9_8287_94942601c652row0_col0\" class=\"data row0 col0\" >75</td> \n",
       "        <td id=\"T_360ab9d4_7f62_11e9_8287_94942601c652row0_col1\" class=\"data row0 col1\" >80</td> \n",
       "        <td id=\"T_360ab9d4_7f62_11e9_8287_94942601c652row0_col2\" class=\"data row0 col2\" >95</td> \n",
       "    </tr>    <tr> \n",
       "        <th id=\"T_360ab9d4_7f62_11e9_8287_94942601c652level0_row1\" class=\"row_heading level0 row1\" >数学</th> \n",
       "        <td id=\"T_360ab9d4_7f62_11e9_8287_94942601c652row1_col0\" class=\"data row1 col0\" >55</td> \n",
       "        <td id=\"T_360ab9d4_7f62_11e9_8287_94942601c652row1_col1\" class=\"data row1 col1\" >80</td> \n",
       "        <td id=\"T_360ab9d4_7f62_11e9_8287_94942601c652row1_col2\" class=\"data row1 col2\" >70</td> \n",
       "    </tr>    <tr> \n",
       "        <th id=\"T_360ab9d4_7f62_11e9_8287_94942601c652level0_row2\" class=\"row_heading level0 row2\" >理科</th> \n",
       "        <td id=\"T_360ab9d4_7f62_11e9_8287_94942601c652row2_col0\" class=\"data row2 col0\" >80</td> \n",
       "        <td id=\"T_360ab9d4_7f62_11e9_8287_94942601c652row2_col1\" class=\"data row2 col1\" >90</td> \n",
       "        <td id=\"T_360ab9d4_7f62_11e9_8287_94942601c652row2_col2\" class=\"data row2 col2\" >85</td> \n",
       "    </tr>    <tr> \n",
       "        <th id=\"T_360ab9d4_7f62_11e9_8287_94942601c652level0_row3\" class=\"row_heading level0 row3\" >社会</th> \n",
       "        <td id=\"T_360ab9d4_7f62_11e9_8287_94942601c652row3_col0\" class=\"data row3 col0\" >90</td> \n",
       "        <td id=\"T_360ab9d4_7f62_11e9_8287_94942601c652row3_col1\" class=\"data row3 col1\" >30</td> \n",
       "        <td id=\"T_360ab9d4_7f62_11e9_8287_94942601c652row3_col2\" class=\"data row3 col2\" >70</td> \n",
       "    </tr></tbody> \n",
       "</table> "
      ],
      "text/plain": [
       "<pandas.io.formats.style.Styler at 0x118327668>"
      ]
     },
     "execution_count": 20,
     "metadata": {},
     "output_type": "execute_result"
    }
   ],
   "source": [
    "exam_df.style.apply(highlight_green_max, axis=0).applymap(color_red_akaten)"
   ]
  },
  {
   "cell_type": "markdown",
   "metadata": {},
   "source": [
    "# ビルトインのスタイル関数\n",
    "## よく使うやつは、あらかじめ準備されている"
   ]
  },
  {
   "cell_type": "markdown",
   "metadata": {},
   "source": [
    "### highlight_max, highlight_min"
   ]
  },
  {
   "cell_type": "code",
   "execution_count": 21,
   "metadata": {
    "ExecuteTime": {
     "end_time": "2019-05-26T02:59:01.180181Z",
     "start_time": "2019-05-26T02:59:01.142343Z"
    }
   },
   "outputs": [
    {
     "data": {
      "text/html": [
       "<style  type=\"text/css\" >\n",
       "    #T_36a3c822_7f62_11e9_b387_94942601c652row0_col2 {\n",
       "            background-color:  yellow;\n",
       "        }    #T_36a3c822_7f62_11e9_b387_94942601c652row2_col1 {\n",
       "            background-color:  yellow;\n",
       "        }    #T_36a3c822_7f62_11e9_b387_94942601c652row3_col0 {\n",
       "            background-color:  yellow;\n",
       "        }</style>  \n",
       "<table id=\"T_36a3c822_7f62_11e9_b387_94942601c652\" > \n",
       "<thead>    <tr> \n",
       "        <th class=\"blank level0\" ></th> \n",
       "        <th class=\"col_heading level0 col0\" >Araki</th> \n",
       "        <th class=\"col_heading level0 col1\" >Baba</th> \n",
       "        <th class=\"col_heading level0 col2\" >Chou</th> \n",
       "    </tr>    <tr> \n",
       "        <th class=\"index_name level0\" >index</th> \n",
       "        <th class=\"blank\" ></th> \n",
       "        <th class=\"blank\" ></th> \n",
       "        <th class=\"blank\" ></th> \n",
       "    </tr></thead> \n",
       "<tbody>    <tr> \n",
       "        <th id=\"T_36a3c822_7f62_11e9_b387_94942601c652level0_row0\" class=\"row_heading level0 row0\" >国語</th> \n",
       "        <td id=\"T_36a3c822_7f62_11e9_b387_94942601c652row0_col0\" class=\"data row0 col0\" >75</td> \n",
       "        <td id=\"T_36a3c822_7f62_11e9_b387_94942601c652row0_col1\" class=\"data row0 col1\" >80</td> \n",
       "        <td id=\"T_36a3c822_7f62_11e9_b387_94942601c652row0_col2\" class=\"data row0 col2\" >95</td> \n",
       "    </tr>    <tr> \n",
       "        <th id=\"T_36a3c822_7f62_11e9_b387_94942601c652level0_row1\" class=\"row_heading level0 row1\" >数学</th> \n",
       "        <td id=\"T_36a3c822_7f62_11e9_b387_94942601c652row1_col0\" class=\"data row1 col0\" >55</td> \n",
       "        <td id=\"T_36a3c822_7f62_11e9_b387_94942601c652row1_col1\" class=\"data row1 col1\" >80</td> \n",
       "        <td id=\"T_36a3c822_7f62_11e9_b387_94942601c652row1_col2\" class=\"data row1 col2\" >70</td> \n",
       "    </tr>    <tr> \n",
       "        <th id=\"T_36a3c822_7f62_11e9_b387_94942601c652level0_row2\" class=\"row_heading level0 row2\" >理科</th> \n",
       "        <td id=\"T_36a3c822_7f62_11e9_b387_94942601c652row2_col0\" class=\"data row2 col0\" >80</td> \n",
       "        <td id=\"T_36a3c822_7f62_11e9_b387_94942601c652row2_col1\" class=\"data row2 col1\" >90</td> \n",
       "        <td id=\"T_36a3c822_7f62_11e9_b387_94942601c652row2_col2\" class=\"data row2 col2\" >85</td> \n",
       "    </tr>    <tr> \n",
       "        <th id=\"T_36a3c822_7f62_11e9_b387_94942601c652level0_row3\" class=\"row_heading level0 row3\" >社会</th> \n",
       "        <td id=\"T_36a3c822_7f62_11e9_b387_94942601c652row3_col0\" class=\"data row3 col0\" >90</td> \n",
       "        <td id=\"T_36a3c822_7f62_11e9_b387_94942601c652row3_col1\" class=\"data row3 col1\" >30</td> \n",
       "        <td id=\"T_36a3c822_7f62_11e9_b387_94942601c652row3_col2\" class=\"data row3 col2\" >70</td> \n",
       "    </tr></tbody> \n",
       "</table> "
      ],
      "text/plain": [
       "<pandas.io.formats.style.Styler at 0x118327f60>"
      ]
     },
     "execution_count": 21,
     "metadata": {},
     "output_type": "execute_result"
    }
   ],
   "source": [
    "exam_df.style.highlight_max()"
   ]
  },
  {
   "cell_type": "code",
   "execution_count": 22,
   "metadata": {
    "ExecuteTime": {
     "end_time": "2019-05-26T02:59:01.443259Z",
     "start_time": "2019-05-26T02:59:01.403554Z"
    }
   },
   "outputs": [
    {
     "data": {
      "text/html": [
       "<style  type=\"text/css\" >\n",
       "    #T_36cbe4d8_7f62_11e9_8bc3_94942601c652row1_col0 {\n",
       "            background-color:  yellow;\n",
       "        }    #T_36cbe4d8_7f62_11e9_8bc3_94942601c652row1_col2 {\n",
       "            background-color:  yellow;\n",
       "        }    #T_36cbe4d8_7f62_11e9_8bc3_94942601c652row3_col1 {\n",
       "            background-color:  yellow;\n",
       "        }    #T_36cbe4d8_7f62_11e9_8bc3_94942601c652row3_col2 {\n",
       "            background-color:  yellow;\n",
       "        }</style>  \n",
       "<table id=\"T_36cbe4d8_7f62_11e9_8bc3_94942601c652\" > \n",
       "<thead>    <tr> \n",
       "        <th class=\"blank level0\" ></th> \n",
       "        <th class=\"col_heading level0 col0\" >Araki</th> \n",
       "        <th class=\"col_heading level0 col1\" >Baba</th> \n",
       "        <th class=\"col_heading level0 col2\" >Chou</th> \n",
       "    </tr>    <tr> \n",
       "        <th class=\"index_name level0\" >index</th> \n",
       "        <th class=\"blank\" ></th> \n",
       "        <th class=\"blank\" ></th> \n",
       "        <th class=\"blank\" ></th> \n",
       "    </tr></thead> \n",
       "<tbody>    <tr> \n",
       "        <th id=\"T_36cbe4d8_7f62_11e9_8bc3_94942601c652level0_row0\" class=\"row_heading level0 row0\" >国語</th> \n",
       "        <td id=\"T_36cbe4d8_7f62_11e9_8bc3_94942601c652row0_col0\" class=\"data row0 col0\" >75</td> \n",
       "        <td id=\"T_36cbe4d8_7f62_11e9_8bc3_94942601c652row0_col1\" class=\"data row0 col1\" >80</td> \n",
       "        <td id=\"T_36cbe4d8_7f62_11e9_8bc3_94942601c652row0_col2\" class=\"data row0 col2\" >95</td> \n",
       "    </tr>    <tr> \n",
       "        <th id=\"T_36cbe4d8_7f62_11e9_8bc3_94942601c652level0_row1\" class=\"row_heading level0 row1\" >数学</th> \n",
       "        <td id=\"T_36cbe4d8_7f62_11e9_8bc3_94942601c652row1_col0\" class=\"data row1 col0\" >55</td> \n",
       "        <td id=\"T_36cbe4d8_7f62_11e9_8bc3_94942601c652row1_col1\" class=\"data row1 col1\" >80</td> \n",
       "        <td id=\"T_36cbe4d8_7f62_11e9_8bc3_94942601c652row1_col2\" class=\"data row1 col2\" >70</td> \n",
       "    </tr>    <tr> \n",
       "        <th id=\"T_36cbe4d8_7f62_11e9_8bc3_94942601c652level0_row2\" class=\"row_heading level0 row2\" >理科</th> \n",
       "        <td id=\"T_36cbe4d8_7f62_11e9_8bc3_94942601c652row2_col0\" class=\"data row2 col0\" >80</td> \n",
       "        <td id=\"T_36cbe4d8_7f62_11e9_8bc3_94942601c652row2_col1\" class=\"data row2 col1\" >90</td> \n",
       "        <td id=\"T_36cbe4d8_7f62_11e9_8bc3_94942601c652row2_col2\" class=\"data row2 col2\" >85</td> \n",
       "    </tr>    <tr> \n",
       "        <th id=\"T_36cbe4d8_7f62_11e9_8bc3_94942601c652level0_row3\" class=\"row_heading level0 row3\" >社会</th> \n",
       "        <td id=\"T_36cbe4d8_7f62_11e9_8bc3_94942601c652row3_col0\" class=\"data row3 col0\" >90</td> \n",
       "        <td id=\"T_36cbe4d8_7f62_11e9_8bc3_94942601c652row3_col1\" class=\"data row3 col1\" >30</td> \n",
       "        <td id=\"T_36cbe4d8_7f62_11e9_8bc3_94942601c652row3_col2\" class=\"data row3 col2\" >70</td> \n",
       "    </tr></tbody> \n",
       "</table> "
      ],
      "text/plain": [
       "<pandas.io.formats.style.Styler at 0x118327278>"
      ]
     },
     "execution_count": 22,
     "metadata": {},
     "output_type": "execute_result"
    }
   ],
   "source": [
    "exam_df.style.highlight_min()"
   ]
  },
  {
   "cell_type": "markdown",
   "metadata": {},
   "source": [
    "### highlight_null"
   ]
  },
  {
   "cell_type": "code",
   "execution_count": 26,
   "metadata": {
    "ExecuteTime": {
     "end_time": "2019-05-26T02:59:07.265529Z",
     "start_time": "2019-05-26T02:59:07.255850Z"
    }
   },
   "outputs": [],
   "source": [
    "sample_df = pd.read_csv('data/styling_sample_02.csv')"
   ]
  },
  {
   "cell_type": "code",
   "execution_count": 27,
   "metadata": {
    "ExecuteTime": {
     "end_time": "2019-05-26T02:59:07.866856Z",
     "start_time": "2019-05-26T02:59:07.850279Z"
    }
   },
   "outputs": [
    {
     "data": {
      "text/html": [
       "<div>\n",
       "<style scoped>\n",
       "    .dataframe tbody tr th:only-of-type {\n",
       "        vertical-align: middle;\n",
       "    }\n",
       "\n",
       "    .dataframe tbody tr th {\n",
       "        vertical-align: top;\n",
       "    }\n",
       "\n",
       "    .dataframe thead th {\n",
       "        text-align: right;\n",
       "    }\n",
       "</style>\n",
       "<table border=\"1\" class=\"dataframe\">\n",
       "  <thead>\n",
       "    <tr style=\"text-align: right;\">\n",
       "      <th></th>\n",
       "      <th>A</th>\n",
       "      <th>B</th>\n",
       "    </tr>\n",
       "  </thead>\n",
       "  <tbody>\n",
       "    <tr>\n",
       "      <th>0</th>\n",
       "      <td>0.0</td>\n",
       "      <td>NaN</td>\n",
       "    </tr>\n",
       "    <tr>\n",
       "      <th>1</th>\n",
       "      <td>10.0</td>\n",
       "      <td>80.0</td>\n",
       "    </tr>\n",
       "    <tr>\n",
       "      <th>2</th>\n",
       "      <td>20.0</td>\n",
       "      <td>60.0</td>\n",
       "    </tr>\n",
       "    <tr>\n",
       "      <th>3</th>\n",
       "      <td>30.0</td>\n",
       "      <td>40.0</td>\n",
       "    </tr>\n",
       "    <tr>\n",
       "      <th>4</th>\n",
       "      <td>40.0</td>\n",
       "      <td>20.0</td>\n",
       "    </tr>\n",
       "    <tr>\n",
       "      <th>5</th>\n",
       "      <td>NaN</td>\n",
       "      <td>0.0</td>\n",
       "    </tr>\n",
       "    <tr>\n",
       "      <th>6</th>\n",
       "      <td>60.0</td>\n",
       "      <td>-20.0</td>\n",
       "    </tr>\n",
       "    <tr>\n",
       "      <th>7</th>\n",
       "      <td>70.0</td>\n",
       "      <td>-40.0</td>\n",
       "    </tr>\n",
       "    <tr>\n",
       "      <th>8</th>\n",
       "      <td>80.0</td>\n",
       "      <td>-60.0</td>\n",
       "    </tr>\n",
       "    <tr>\n",
       "      <th>9</th>\n",
       "      <td>100.0</td>\n",
       "      <td>-80.0</td>\n",
       "    </tr>\n",
       "  </tbody>\n",
       "</table>\n",
       "</div>"
      ],
      "text/plain": [
       "       A     B\n",
       "0    0.0   NaN\n",
       "1   10.0  80.0\n",
       "2   20.0  60.0\n",
       "3   30.0  40.0\n",
       "4   40.0  20.0\n",
       "5    NaN   0.0\n",
       "6   60.0 -20.0\n",
       "7   70.0 -40.0\n",
       "8   80.0 -60.0\n",
       "9  100.0 -80.0"
      ]
     },
     "execution_count": 27,
     "metadata": {},
     "output_type": "execute_result"
    }
   ],
   "source": [
    "sample_df"
   ]
  },
  {
   "cell_type": "code",
   "execution_count": 28,
   "metadata": {
    "ExecuteTime": {
     "end_time": "2019-05-26T02:59:08.554834Z",
     "start_time": "2019-05-26T02:59:08.516589Z"
    }
   },
   "outputs": [
    {
     "data": {
      "text/html": [
       "<style  type=\"text/css\" >\n",
       "    #T_3b088b00_7f62_11e9_a20f_94942601c652row0_col1 {\n",
       "            background-color:  red;\n",
       "        }    #T_3b088b00_7f62_11e9_a20f_94942601c652row5_col0 {\n",
       "            background-color:  red;\n",
       "        }</style>  \n",
       "<table id=\"T_3b088b00_7f62_11e9_a20f_94942601c652\" > \n",
       "<thead>    <tr> \n",
       "        <th class=\"blank level0\" ></th> \n",
       "        <th class=\"col_heading level0 col0\" >A</th> \n",
       "        <th class=\"col_heading level0 col1\" >B</th> \n",
       "    </tr></thead> \n",
       "<tbody>    <tr> \n",
       "        <th id=\"T_3b088b00_7f62_11e9_a20f_94942601c652level0_row0\" class=\"row_heading level0 row0\" >0</th> \n",
       "        <td id=\"T_3b088b00_7f62_11e9_a20f_94942601c652row0_col0\" class=\"data row0 col0\" >0</td> \n",
       "        <td id=\"T_3b088b00_7f62_11e9_a20f_94942601c652row0_col1\" class=\"data row0 col1\" >nan</td> \n",
       "    </tr>    <tr> \n",
       "        <th id=\"T_3b088b00_7f62_11e9_a20f_94942601c652level0_row1\" class=\"row_heading level0 row1\" >1</th> \n",
       "        <td id=\"T_3b088b00_7f62_11e9_a20f_94942601c652row1_col0\" class=\"data row1 col0\" >10</td> \n",
       "        <td id=\"T_3b088b00_7f62_11e9_a20f_94942601c652row1_col1\" class=\"data row1 col1\" >80</td> \n",
       "    </tr>    <tr> \n",
       "        <th id=\"T_3b088b00_7f62_11e9_a20f_94942601c652level0_row2\" class=\"row_heading level0 row2\" >2</th> \n",
       "        <td id=\"T_3b088b00_7f62_11e9_a20f_94942601c652row2_col0\" class=\"data row2 col0\" >20</td> \n",
       "        <td id=\"T_3b088b00_7f62_11e9_a20f_94942601c652row2_col1\" class=\"data row2 col1\" >60</td> \n",
       "    </tr>    <tr> \n",
       "        <th id=\"T_3b088b00_7f62_11e9_a20f_94942601c652level0_row3\" class=\"row_heading level0 row3\" >3</th> \n",
       "        <td id=\"T_3b088b00_7f62_11e9_a20f_94942601c652row3_col0\" class=\"data row3 col0\" >30</td> \n",
       "        <td id=\"T_3b088b00_7f62_11e9_a20f_94942601c652row3_col1\" class=\"data row3 col1\" >40</td> \n",
       "    </tr>    <tr> \n",
       "        <th id=\"T_3b088b00_7f62_11e9_a20f_94942601c652level0_row4\" class=\"row_heading level0 row4\" >4</th> \n",
       "        <td id=\"T_3b088b00_7f62_11e9_a20f_94942601c652row4_col0\" class=\"data row4 col0\" >40</td> \n",
       "        <td id=\"T_3b088b00_7f62_11e9_a20f_94942601c652row4_col1\" class=\"data row4 col1\" >20</td> \n",
       "    </tr>    <tr> \n",
       "        <th id=\"T_3b088b00_7f62_11e9_a20f_94942601c652level0_row5\" class=\"row_heading level0 row5\" >5</th> \n",
       "        <td id=\"T_3b088b00_7f62_11e9_a20f_94942601c652row5_col0\" class=\"data row5 col0\" >nan</td> \n",
       "        <td id=\"T_3b088b00_7f62_11e9_a20f_94942601c652row5_col1\" class=\"data row5 col1\" >0</td> \n",
       "    </tr>    <tr> \n",
       "        <th id=\"T_3b088b00_7f62_11e9_a20f_94942601c652level0_row6\" class=\"row_heading level0 row6\" >6</th> \n",
       "        <td id=\"T_3b088b00_7f62_11e9_a20f_94942601c652row6_col0\" class=\"data row6 col0\" >60</td> \n",
       "        <td id=\"T_3b088b00_7f62_11e9_a20f_94942601c652row6_col1\" class=\"data row6 col1\" >-20</td> \n",
       "    </tr>    <tr> \n",
       "        <th id=\"T_3b088b00_7f62_11e9_a20f_94942601c652level0_row7\" class=\"row_heading level0 row7\" >7</th> \n",
       "        <td id=\"T_3b088b00_7f62_11e9_a20f_94942601c652row7_col0\" class=\"data row7 col0\" >70</td> \n",
       "        <td id=\"T_3b088b00_7f62_11e9_a20f_94942601c652row7_col1\" class=\"data row7 col1\" >-40</td> \n",
       "    </tr>    <tr> \n",
       "        <th id=\"T_3b088b00_7f62_11e9_a20f_94942601c652level0_row8\" class=\"row_heading level0 row8\" >8</th> \n",
       "        <td id=\"T_3b088b00_7f62_11e9_a20f_94942601c652row8_col0\" class=\"data row8 col0\" >80</td> \n",
       "        <td id=\"T_3b088b00_7f62_11e9_a20f_94942601c652row8_col1\" class=\"data row8 col1\" >-60</td> \n",
       "    </tr>    <tr> \n",
       "        <th id=\"T_3b088b00_7f62_11e9_a20f_94942601c652level0_row9\" class=\"row_heading level0 row9\" >9</th> \n",
       "        <td id=\"T_3b088b00_7f62_11e9_a20f_94942601c652row9_col0\" class=\"data row9 col0\" >100</td> \n",
       "        <td id=\"T_3b088b00_7f62_11e9_a20f_94942601c652row9_col1\" class=\"data row9 col1\" >-80</td> \n",
       "    </tr></tbody> \n",
       "</table> "
      ],
      "text/plain": [
       "<pandas.io.formats.style.Styler at 0x1182d9a90>"
      ]
     },
     "execution_count": 28,
     "metadata": {},
     "output_type": "execute_result"
    }
   ],
   "source": [
    "sample_df.style.highlight_null()"
   ]
  },
  {
   "cell_type": "markdown",
   "metadata": {},
   "source": [
    "### bar"
   ]
  },
  {
   "cell_type": "code",
   "execution_count": 30,
   "metadata": {
    "ExecuteTime": {
     "end_time": "2019-05-26T02:59:10.970059Z",
     "start_time": "2019-05-26T02:59:10.927695Z"
    }
   },
   "outputs": [
    {
     "data": {
      "text/html": [
       "<style  type=\"text/css\" >\n",
       "    #T_3c7943ba_7f62_11e9_b190_94942601c652row0_col0 {\n",
       "            width:  10em;\n",
       "             height:  80%;\n",
       "        }    #T_3c7943ba_7f62_11e9_b190_94942601c652row0_col1 {\n",
       "            width:  10em;\n",
       "             height:  80%;\n",
       "        }    #T_3c7943ba_7f62_11e9_b190_94942601c652row1_col0 {\n",
       "            width:  10em;\n",
       "             height:  80%;\n",
       "            background:  linear-gradient(90deg,#d65f5f 10.0%, transparent 0%);\n",
       "        }    #T_3c7943ba_7f62_11e9_b190_94942601c652row1_col1 {\n",
       "            width:  10em;\n",
       "             height:  80%;\n",
       "            background:  linear-gradient(90deg,#d65f5f 100.0%, transparent 0%);\n",
       "        }    #T_3c7943ba_7f62_11e9_b190_94942601c652row2_col0 {\n",
       "            width:  10em;\n",
       "             height:  80%;\n",
       "            background:  linear-gradient(90deg,#d65f5f 20.0%, transparent 0%);\n",
       "        }    #T_3c7943ba_7f62_11e9_b190_94942601c652row2_col1 {\n",
       "            width:  10em;\n",
       "             height:  80%;\n",
       "            background:  linear-gradient(90deg,#d65f5f 87.5%, transparent 0%);\n",
       "        }    #T_3c7943ba_7f62_11e9_b190_94942601c652row3_col0 {\n",
       "            width:  10em;\n",
       "             height:  80%;\n",
       "            background:  linear-gradient(90deg,#d65f5f 30.0%, transparent 0%);\n",
       "        }    #T_3c7943ba_7f62_11e9_b190_94942601c652row3_col1 {\n",
       "            width:  10em;\n",
       "             height:  80%;\n",
       "            background:  linear-gradient(90deg,#d65f5f 75.0%, transparent 0%);\n",
       "        }    #T_3c7943ba_7f62_11e9_b190_94942601c652row4_col0 {\n",
       "            width:  10em;\n",
       "             height:  80%;\n",
       "            background:  linear-gradient(90deg,#d65f5f 40.0%, transparent 0%);\n",
       "        }    #T_3c7943ba_7f62_11e9_b190_94942601c652row4_col1 {\n",
       "            width:  10em;\n",
       "             height:  80%;\n",
       "            background:  linear-gradient(90deg,#d65f5f 62.5%, transparent 0%);\n",
       "        }    #T_3c7943ba_7f62_11e9_b190_94942601c652row5_col0 {\n",
       "            width:  10em;\n",
       "             height:  80%;\n",
       "        }    #T_3c7943ba_7f62_11e9_b190_94942601c652row5_col1 {\n",
       "            width:  10em;\n",
       "             height:  80%;\n",
       "            background:  linear-gradient(90deg,#d65f5f 50.0%, transparent 0%);\n",
       "        }    #T_3c7943ba_7f62_11e9_b190_94942601c652row6_col0 {\n",
       "            width:  10em;\n",
       "             height:  80%;\n",
       "            background:  linear-gradient(90deg,#d65f5f 60.0%, transparent 0%);\n",
       "        }    #T_3c7943ba_7f62_11e9_b190_94942601c652row6_col1 {\n",
       "            width:  10em;\n",
       "             height:  80%;\n",
       "            background:  linear-gradient(90deg,#d65f5f 37.5%, transparent 0%);\n",
       "        }    #T_3c7943ba_7f62_11e9_b190_94942601c652row7_col0 {\n",
       "            width:  10em;\n",
       "             height:  80%;\n",
       "            background:  linear-gradient(90deg,#d65f5f 70.0%, transparent 0%);\n",
       "        }    #T_3c7943ba_7f62_11e9_b190_94942601c652row7_col1 {\n",
       "            width:  10em;\n",
       "             height:  80%;\n",
       "            background:  linear-gradient(90deg,#d65f5f 25.0%, transparent 0%);\n",
       "        }    #T_3c7943ba_7f62_11e9_b190_94942601c652row8_col0 {\n",
       "            width:  10em;\n",
       "             height:  80%;\n",
       "            background:  linear-gradient(90deg,#d65f5f 80.0%, transparent 0%);\n",
       "        }    #T_3c7943ba_7f62_11e9_b190_94942601c652row8_col1 {\n",
       "            width:  10em;\n",
       "             height:  80%;\n",
       "            background:  linear-gradient(90deg,#d65f5f 12.5%, transparent 0%);\n",
       "        }    #T_3c7943ba_7f62_11e9_b190_94942601c652row9_col0 {\n",
       "            width:  10em;\n",
       "             height:  80%;\n",
       "            background:  linear-gradient(90deg,#d65f5f 100.0%, transparent 0%);\n",
       "        }    #T_3c7943ba_7f62_11e9_b190_94942601c652row9_col1 {\n",
       "            width:  10em;\n",
       "             height:  80%;\n",
       "        }</style>  \n",
       "<table id=\"T_3c7943ba_7f62_11e9_b190_94942601c652\" > \n",
       "<thead>    <tr> \n",
       "        <th class=\"blank level0\" ></th> \n",
       "        <th class=\"col_heading level0 col0\" >A</th> \n",
       "        <th class=\"col_heading level0 col1\" >B</th> \n",
       "    </tr></thead> \n",
       "<tbody>    <tr> \n",
       "        <th id=\"T_3c7943ba_7f62_11e9_b190_94942601c652level0_row0\" class=\"row_heading level0 row0\" >0</th> \n",
       "        <td id=\"T_3c7943ba_7f62_11e9_b190_94942601c652row0_col0\" class=\"data row0 col0\" >0</td> \n",
       "        <td id=\"T_3c7943ba_7f62_11e9_b190_94942601c652row0_col1\" class=\"data row0 col1\" >nan</td> \n",
       "    </tr>    <tr> \n",
       "        <th id=\"T_3c7943ba_7f62_11e9_b190_94942601c652level0_row1\" class=\"row_heading level0 row1\" >1</th> \n",
       "        <td id=\"T_3c7943ba_7f62_11e9_b190_94942601c652row1_col0\" class=\"data row1 col0\" >10</td> \n",
       "        <td id=\"T_3c7943ba_7f62_11e9_b190_94942601c652row1_col1\" class=\"data row1 col1\" >80</td> \n",
       "    </tr>    <tr> \n",
       "        <th id=\"T_3c7943ba_7f62_11e9_b190_94942601c652level0_row2\" class=\"row_heading level0 row2\" >2</th> \n",
       "        <td id=\"T_3c7943ba_7f62_11e9_b190_94942601c652row2_col0\" class=\"data row2 col0\" >20</td> \n",
       "        <td id=\"T_3c7943ba_7f62_11e9_b190_94942601c652row2_col1\" class=\"data row2 col1\" >60</td> \n",
       "    </tr>    <tr> \n",
       "        <th id=\"T_3c7943ba_7f62_11e9_b190_94942601c652level0_row3\" class=\"row_heading level0 row3\" >3</th> \n",
       "        <td id=\"T_3c7943ba_7f62_11e9_b190_94942601c652row3_col0\" class=\"data row3 col0\" >30</td> \n",
       "        <td id=\"T_3c7943ba_7f62_11e9_b190_94942601c652row3_col1\" class=\"data row3 col1\" >40</td> \n",
       "    </tr>    <tr> \n",
       "        <th id=\"T_3c7943ba_7f62_11e9_b190_94942601c652level0_row4\" class=\"row_heading level0 row4\" >4</th> \n",
       "        <td id=\"T_3c7943ba_7f62_11e9_b190_94942601c652row4_col0\" class=\"data row4 col0\" >40</td> \n",
       "        <td id=\"T_3c7943ba_7f62_11e9_b190_94942601c652row4_col1\" class=\"data row4 col1\" >20</td> \n",
       "    </tr>    <tr> \n",
       "        <th id=\"T_3c7943ba_7f62_11e9_b190_94942601c652level0_row5\" class=\"row_heading level0 row5\" >5</th> \n",
       "        <td id=\"T_3c7943ba_7f62_11e9_b190_94942601c652row5_col0\" class=\"data row5 col0\" >nan</td> \n",
       "        <td id=\"T_3c7943ba_7f62_11e9_b190_94942601c652row5_col1\" class=\"data row5 col1\" >0</td> \n",
       "    </tr>    <tr> \n",
       "        <th id=\"T_3c7943ba_7f62_11e9_b190_94942601c652level0_row6\" class=\"row_heading level0 row6\" >6</th> \n",
       "        <td id=\"T_3c7943ba_7f62_11e9_b190_94942601c652row6_col0\" class=\"data row6 col0\" >60</td> \n",
       "        <td id=\"T_3c7943ba_7f62_11e9_b190_94942601c652row6_col1\" class=\"data row6 col1\" >-20</td> \n",
       "    </tr>    <tr> \n",
       "        <th id=\"T_3c7943ba_7f62_11e9_b190_94942601c652level0_row7\" class=\"row_heading level0 row7\" >7</th> \n",
       "        <td id=\"T_3c7943ba_7f62_11e9_b190_94942601c652row7_col0\" class=\"data row7 col0\" >70</td> \n",
       "        <td id=\"T_3c7943ba_7f62_11e9_b190_94942601c652row7_col1\" class=\"data row7 col1\" >-40</td> \n",
       "    </tr>    <tr> \n",
       "        <th id=\"T_3c7943ba_7f62_11e9_b190_94942601c652level0_row8\" class=\"row_heading level0 row8\" >8</th> \n",
       "        <td id=\"T_3c7943ba_7f62_11e9_b190_94942601c652row8_col0\" class=\"data row8 col0\" >80</td> \n",
       "        <td id=\"T_3c7943ba_7f62_11e9_b190_94942601c652row8_col1\" class=\"data row8 col1\" >-60</td> \n",
       "    </tr>    <tr> \n",
       "        <th id=\"T_3c7943ba_7f62_11e9_b190_94942601c652level0_row9\" class=\"row_heading level0 row9\" >9</th> \n",
       "        <td id=\"T_3c7943ba_7f62_11e9_b190_94942601c652row9_col0\" class=\"data row9 col0\" >100</td> \n",
       "        <td id=\"T_3c7943ba_7f62_11e9_b190_94942601c652row9_col1\" class=\"data row9 col1\" >-80</td> \n",
       "    </tr></tbody> \n",
       "</table> "
      ],
      "text/plain": [
       "<pandas.io.formats.style.Styler at 0x1182d9f28>"
      ]
     },
     "execution_count": 30,
     "metadata": {},
     "output_type": "execute_result"
    }
   ],
   "source": [
    "sample_df.style.bar()"
   ]
  },
  {
   "cell_type": "code",
   "execution_count": 31,
   "metadata": {
    "ExecuteTime": {
     "end_time": "2019-05-26T02:59:11.725594Z",
     "start_time": "2019-05-26T02:59:11.684397Z"
    }
   },
   "outputs": [
    {
     "data": {
      "text/html": [
       "<style  type=\"text/css\" >\n",
       "    #T_3ceca410_7f62_11e9_bacd_94942601c652row0_col0 {\n",
       "            width:  10em;\n",
       "             height:  80%;\n",
       "            background:  linear-gradient(90deg, transparent 0%, transparent 0.0%, #d65f5f 0.0%, #d65f5f 0.0%, transparent 0.0%);\n",
       "        }    #T_3ceca410_7f62_11e9_bacd_94942601c652row0_col1 {\n",
       "            width:  10em;\n",
       "             height:  80%;\n",
       "            background:  linear-gradient(90deg, transparent 0%, transparent nan%, #d65f5f nan%, #d65f5f 50.0%, transparent 50.0%);\n",
       "        }    #T_3ceca410_7f62_11e9_bacd_94942601c652row1_col0 {\n",
       "            width:  10em;\n",
       "             height:  80%;\n",
       "            background:  linear-gradient(90deg, transparent 0%, transparent 0.0%, #d65f5f 0.0%, #d65f5f 10.0%, transparent 10.0%);\n",
       "        }    #T_3ceca410_7f62_11e9_bacd_94942601c652row1_col1 {\n",
       "            width:  10em;\n",
       "             height:  80%;\n",
       "            background:  linear-gradient(90deg, transparent 0%, transparent 50.0%, #d65f5f 50.0%, #d65f5f 100.0%, transparent 100.0%);\n",
       "        }    #T_3ceca410_7f62_11e9_bacd_94942601c652row2_col0 {\n",
       "            width:  10em;\n",
       "             height:  80%;\n",
       "            background:  linear-gradient(90deg, transparent 0%, transparent 0.0%, #d65f5f 0.0%, #d65f5f 20.0%, transparent 20.0%);\n",
       "        }    #T_3ceca410_7f62_11e9_bacd_94942601c652row2_col1 {\n",
       "            width:  10em;\n",
       "             height:  80%;\n",
       "            background:  linear-gradient(90deg, transparent 0%, transparent 50.0%, #d65f5f 50.0%, #d65f5f 87.5%, transparent 87.5%);\n",
       "        }    #T_3ceca410_7f62_11e9_bacd_94942601c652row3_col0 {\n",
       "            width:  10em;\n",
       "             height:  80%;\n",
       "            background:  linear-gradient(90deg, transparent 0%, transparent 0.0%, #d65f5f 0.0%, #d65f5f 30.0%, transparent 30.0%);\n",
       "        }    #T_3ceca410_7f62_11e9_bacd_94942601c652row3_col1 {\n",
       "            width:  10em;\n",
       "             height:  80%;\n",
       "            background:  linear-gradient(90deg, transparent 0%, transparent 50.0%, #d65f5f 50.0%, #d65f5f 75.0%, transparent 75.0%);\n",
       "        }    #T_3ceca410_7f62_11e9_bacd_94942601c652row4_col0 {\n",
       "            width:  10em;\n",
       "             height:  80%;\n",
       "            background:  linear-gradient(90deg, transparent 0%, transparent 0.0%, #d65f5f 0.0%, #d65f5f 40.0%, transparent 40.0%);\n",
       "        }    #T_3ceca410_7f62_11e9_bacd_94942601c652row4_col1 {\n",
       "            width:  10em;\n",
       "             height:  80%;\n",
       "            background:  linear-gradient(90deg, transparent 0%, transparent 50.0%, #d65f5f 50.0%, #d65f5f 62.5%, transparent 62.5%);\n",
       "        }    #T_3ceca410_7f62_11e9_bacd_94942601c652row5_col0 {\n",
       "            width:  10em;\n",
       "             height:  80%;\n",
       "            background:  linear-gradient(90deg, transparent 0%, transparent nan%, #d65f5f nan%, #d65f5f 0.0%, transparent 0.0%);\n",
       "        }    #T_3ceca410_7f62_11e9_bacd_94942601c652row5_col1 {\n",
       "            width:  10em;\n",
       "             height:  80%;\n",
       "            background:  linear-gradient(90deg, transparent 0%, transparent 50.0%, #d65f5f 50.0%, #d65f5f 50.0%, transparent 50.0%);\n",
       "        }    #T_3ceca410_7f62_11e9_bacd_94942601c652row6_col0 {\n",
       "            width:  10em;\n",
       "             height:  80%;\n",
       "            background:  linear-gradient(90deg, transparent 0%, transparent 0.0%, #d65f5f 0.0%, #d65f5f 60.0%, transparent 60.0%);\n",
       "        }    #T_3ceca410_7f62_11e9_bacd_94942601c652row6_col1 {\n",
       "            width:  10em;\n",
       "             height:  80%;\n",
       "            background:  linear-gradient(90deg, transparent 0%, transparent 37.5%, #d65f5f 37.5%, #d65f5f 50.0%, transparent 50.0%);\n",
       "        }    #T_3ceca410_7f62_11e9_bacd_94942601c652row7_col0 {\n",
       "            width:  10em;\n",
       "             height:  80%;\n",
       "            background:  linear-gradient(90deg, transparent 0%, transparent 0.0%, #d65f5f 0.0%, #d65f5f 70.0%, transparent 70.0%);\n",
       "        }    #T_3ceca410_7f62_11e9_bacd_94942601c652row7_col1 {\n",
       "            width:  10em;\n",
       "             height:  80%;\n",
       "            background:  linear-gradient(90deg, transparent 0%, transparent 25.0%, #d65f5f 25.0%, #d65f5f 50.0%, transparent 50.0%);\n",
       "        }    #T_3ceca410_7f62_11e9_bacd_94942601c652row8_col0 {\n",
       "            width:  10em;\n",
       "             height:  80%;\n",
       "            background:  linear-gradient(90deg, transparent 0%, transparent 0.0%, #d65f5f 0.0%, #d65f5f 80.0%, transparent 80.0%);\n",
       "        }    #T_3ceca410_7f62_11e9_bacd_94942601c652row8_col1 {\n",
       "            width:  10em;\n",
       "             height:  80%;\n",
       "            background:  linear-gradient(90deg, transparent 0%, transparent 12.5%, #d65f5f 12.5%, #d65f5f 50.0%, transparent 50.0%);\n",
       "        }    #T_3ceca410_7f62_11e9_bacd_94942601c652row9_col0 {\n",
       "            width:  10em;\n",
       "             height:  80%;\n",
       "            background:  linear-gradient(90deg, transparent 0%, transparent 0.0%, #d65f5f 0.0%, #d65f5f 100.0%, transparent 100.0%);\n",
       "        }    #T_3ceca410_7f62_11e9_bacd_94942601c652row9_col1 {\n",
       "            width:  10em;\n",
       "             height:  80%;\n",
       "            background:  linear-gradient(90deg, transparent 0%, transparent 0.0%, #d65f5f 0.0%, #d65f5f 50.0%, transparent 50.0%);\n",
       "        }</style>  \n",
       "<table id=\"T_3ceca410_7f62_11e9_bacd_94942601c652\" > \n",
       "<thead>    <tr> \n",
       "        <th class=\"blank level0\" ></th> \n",
       "        <th class=\"col_heading level0 col0\" >A</th> \n",
       "        <th class=\"col_heading level0 col1\" >B</th> \n",
       "    </tr></thead> \n",
       "<tbody>    <tr> \n",
       "        <th id=\"T_3ceca410_7f62_11e9_bacd_94942601c652level0_row0\" class=\"row_heading level0 row0\" >0</th> \n",
       "        <td id=\"T_3ceca410_7f62_11e9_bacd_94942601c652row0_col0\" class=\"data row0 col0\" >0</td> \n",
       "        <td id=\"T_3ceca410_7f62_11e9_bacd_94942601c652row0_col1\" class=\"data row0 col1\" >nan</td> \n",
       "    </tr>    <tr> \n",
       "        <th id=\"T_3ceca410_7f62_11e9_bacd_94942601c652level0_row1\" class=\"row_heading level0 row1\" >1</th> \n",
       "        <td id=\"T_3ceca410_7f62_11e9_bacd_94942601c652row1_col0\" class=\"data row1 col0\" >10</td> \n",
       "        <td id=\"T_3ceca410_7f62_11e9_bacd_94942601c652row1_col1\" class=\"data row1 col1\" >80</td> \n",
       "    </tr>    <tr> \n",
       "        <th id=\"T_3ceca410_7f62_11e9_bacd_94942601c652level0_row2\" class=\"row_heading level0 row2\" >2</th> \n",
       "        <td id=\"T_3ceca410_7f62_11e9_bacd_94942601c652row2_col0\" class=\"data row2 col0\" >20</td> \n",
       "        <td id=\"T_3ceca410_7f62_11e9_bacd_94942601c652row2_col1\" class=\"data row2 col1\" >60</td> \n",
       "    </tr>    <tr> \n",
       "        <th id=\"T_3ceca410_7f62_11e9_bacd_94942601c652level0_row3\" class=\"row_heading level0 row3\" >3</th> \n",
       "        <td id=\"T_3ceca410_7f62_11e9_bacd_94942601c652row3_col0\" class=\"data row3 col0\" >30</td> \n",
       "        <td id=\"T_3ceca410_7f62_11e9_bacd_94942601c652row3_col1\" class=\"data row3 col1\" >40</td> \n",
       "    </tr>    <tr> \n",
       "        <th id=\"T_3ceca410_7f62_11e9_bacd_94942601c652level0_row4\" class=\"row_heading level0 row4\" >4</th> \n",
       "        <td id=\"T_3ceca410_7f62_11e9_bacd_94942601c652row4_col0\" class=\"data row4 col0\" >40</td> \n",
       "        <td id=\"T_3ceca410_7f62_11e9_bacd_94942601c652row4_col1\" class=\"data row4 col1\" >20</td> \n",
       "    </tr>    <tr> \n",
       "        <th id=\"T_3ceca410_7f62_11e9_bacd_94942601c652level0_row5\" class=\"row_heading level0 row5\" >5</th> \n",
       "        <td id=\"T_3ceca410_7f62_11e9_bacd_94942601c652row5_col0\" class=\"data row5 col0\" >nan</td> \n",
       "        <td id=\"T_3ceca410_7f62_11e9_bacd_94942601c652row5_col1\" class=\"data row5 col1\" >0</td> \n",
       "    </tr>    <tr> \n",
       "        <th id=\"T_3ceca410_7f62_11e9_bacd_94942601c652level0_row6\" class=\"row_heading level0 row6\" >6</th> \n",
       "        <td id=\"T_3ceca410_7f62_11e9_bacd_94942601c652row6_col0\" class=\"data row6 col0\" >60</td> \n",
       "        <td id=\"T_3ceca410_7f62_11e9_bacd_94942601c652row6_col1\" class=\"data row6 col1\" >-20</td> \n",
       "    </tr>    <tr> \n",
       "        <th id=\"T_3ceca410_7f62_11e9_bacd_94942601c652level0_row7\" class=\"row_heading level0 row7\" >7</th> \n",
       "        <td id=\"T_3ceca410_7f62_11e9_bacd_94942601c652row7_col0\" class=\"data row7 col0\" >70</td> \n",
       "        <td id=\"T_3ceca410_7f62_11e9_bacd_94942601c652row7_col1\" class=\"data row7 col1\" >-40</td> \n",
       "    </tr>    <tr> \n",
       "        <th id=\"T_3ceca410_7f62_11e9_bacd_94942601c652level0_row8\" class=\"row_heading level0 row8\" >8</th> \n",
       "        <td id=\"T_3ceca410_7f62_11e9_bacd_94942601c652row8_col0\" class=\"data row8 col0\" >80</td> \n",
       "        <td id=\"T_3ceca410_7f62_11e9_bacd_94942601c652row8_col1\" class=\"data row8 col1\" >-60</td> \n",
       "    </tr>    <tr> \n",
       "        <th id=\"T_3ceca410_7f62_11e9_bacd_94942601c652level0_row9\" class=\"row_heading level0 row9\" >9</th> \n",
       "        <td id=\"T_3ceca410_7f62_11e9_bacd_94942601c652row9_col0\" class=\"data row9 col0\" >100</td> \n",
       "        <td id=\"T_3ceca410_7f62_11e9_bacd_94942601c652row9_col1\" class=\"data row9 col1\" >-80</td> \n",
       "    </tr></tbody> \n",
       "</table> "
      ],
      "text/plain": [
       "<pandas.io.formats.style.Styler at 0x11831c358>"
      ]
     },
     "execution_count": 31,
     "metadata": {},
     "output_type": "execute_result"
    }
   ],
   "source": [
    "sample_df.style.bar(align='mid')"
   ]
  },
  {
   "cell_type": "code",
   "execution_count": 32,
   "metadata": {
    "ExecuteTime": {
     "end_time": "2019-05-26T02:59:12.414618Z",
     "start_time": "2019-05-26T02:59:12.363841Z"
    }
   },
   "outputs": [
    {
     "data": {
      "text/html": [
       "<style  type=\"text/css\" >\n",
       "    #T_3d55b950_7f62_11e9_86af_94942601c652row0_col0 {\n",
       "            width:  10em;\n",
       "             height:  80%;\n",
       "            background:  linear-gradient(90deg, transparent 0%, transparent 0.0%, skyblue 0.0%, skyblue 0.0%, transparent 0.0%);\n",
       "        }    #T_3d55b950_7f62_11e9_86af_94942601c652row0_col1 {\n",
       "            width:  10em;\n",
       "             height:  80%;\n",
       "            background:  linear-gradient(90deg, transparent 0%, transparent nan%, skyblue nan%, skyblue 50.0%, transparent 50.0%);\n",
       "        }    #T_3d55b950_7f62_11e9_86af_94942601c652row1_col0 {\n",
       "            width:  10em;\n",
       "             height:  80%;\n",
       "            background:  linear-gradient(90deg, transparent 0%, transparent 0.0%, skyblue 0.0%, skyblue 10.0%, transparent 10.0%);\n",
       "        }    #T_3d55b950_7f62_11e9_86af_94942601c652row1_col1 {\n",
       "            width:  10em;\n",
       "             height:  80%;\n",
       "            background:  linear-gradient(90deg, transparent 0%, transparent 50.0%, skyblue 50.0%, skyblue 100.0%, transparent 100.0%);\n",
       "        }    #T_3d55b950_7f62_11e9_86af_94942601c652row2_col0 {\n",
       "            width:  10em;\n",
       "             height:  80%;\n",
       "            background:  linear-gradient(90deg, transparent 0%, transparent 0.0%, skyblue 0.0%, skyblue 20.0%, transparent 20.0%);\n",
       "        }    #T_3d55b950_7f62_11e9_86af_94942601c652row2_col1 {\n",
       "            width:  10em;\n",
       "             height:  80%;\n",
       "            background:  linear-gradient(90deg, transparent 0%, transparent 50.0%, skyblue 50.0%, skyblue 87.5%, transparent 87.5%);\n",
       "        }    #T_3d55b950_7f62_11e9_86af_94942601c652row3_col0 {\n",
       "            width:  10em;\n",
       "             height:  80%;\n",
       "            background:  linear-gradient(90deg, transparent 0%, transparent 0.0%, skyblue 0.0%, skyblue 30.0%, transparent 30.0%);\n",
       "        }    #T_3d55b950_7f62_11e9_86af_94942601c652row3_col1 {\n",
       "            width:  10em;\n",
       "             height:  80%;\n",
       "            background:  linear-gradient(90deg, transparent 0%, transparent 50.0%, skyblue 50.0%, skyblue 75.0%, transparent 75.0%);\n",
       "        }    #T_3d55b950_7f62_11e9_86af_94942601c652row4_col0 {\n",
       "            width:  10em;\n",
       "             height:  80%;\n",
       "            background:  linear-gradient(90deg, transparent 0%, transparent 0.0%, skyblue 0.0%, skyblue 40.0%, transparent 40.0%);\n",
       "        }    #T_3d55b950_7f62_11e9_86af_94942601c652row4_col1 {\n",
       "            width:  10em;\n",
       "             height:  80%;\n",
       "            background:  linear-gradient(90deg, transparent 0%, transparent 50.0%, skyblue 50.0%, skyblue 62.5%, transparent 62.5%);\n",
       "        }    #T_3d55b950_7f62_11e9_86af_94942601c652row5_col0 {\n",
       "            width:  10em;\n",
       "             height:  80%;\n",
       "            background:  linear-gradient(90deg, transparent 0%, transparent nan%, skyblue nan%, skyblue 0.0%, transparent 0.0%);\n",
       "        }    #T_3d55b950_7f62_11e9_86af_94942601c652row5_col1 {\n",
       "            width:  10em;\n",
       "             height:  80%;\n",
       "            background:  linear-gradient(90deg, transparent 0%, transparent 50.0%, skyblue 50.0%, skyblue 50.0%, transparent 50.0%);\n",
       "        }    #T_3d55b950_7f62_11e9_86af_94942601c652row6_col0 {\n",
       "            width:  10em;\n",
       "             height:  80%;\n",
       "            background:  linear-gradient(90deg, transparent 0%, transparent 0.0%, skyblue 0.0%, skyblue 60.0%, transparent 60.0%);\n",
       "        }    #T_3d55b950_7f62_11e9_86af_94942601c652row6_col1 {\n",
       "            width:  10em;\n",
       "             height:  80%;\n",
       "            background:  linear-gradient(90deg, transparent 0%, transparent 37.5%, skyblue 37.5%, skyblue 50.0%, transparent 50.0%);\n",
       "        }    #T_3d55b950_7f62_11e9_86af_94942601c652row7_col0 {\n",
       "            width:  10em;\n",
       "             height:  80%;\n",
       "            background:  linear-gradient(90deg, transparent 0%, transparent 0.0%, skyblue 0.0%, skyblue 70.0%, transparent 70.0%);\n",
       "        }    #T_3d55b950_7f62_11e9_86af_94942601c652row7_col1 {\n",
       "            width:  10em;\n",
       "             height:  80%;\n",
       "            background:  linear-gradient(90deg, transparent 0%, transparent 25.0%, skyblue 25.0%, skyblue 50.0%, transparent 50.0%);\n",
       "        }    #T_3d55b950_7f62_11e9_86af_94942601c652row8_col0 {\n",
       "            width:  10em;\n",
       "             height:  80%;\n",
       "            background:  linear-gradient(90deg, transparent 0%, transparent 0.0%, skyblue 0.0%, skyblue 80.0%, transparent 80.0%);\n",
       "        }    #T_3d55b950_7f62_11e9_86af_94942601c652row8_col1 {\n",
       "            width:  10em;\n",
       "             height:  80%;\n",
       "            background:  linear-gradient(90deg, transparent 0%, transparent 12.5%, skyblue 12.5%, skyblue 50.0%, transparent 50.0%);\n",
       "        }    #T_3d55b950_7f62_11e9_86af_94942601c652row9_col0 {\n",
       "            width:  10em;\n",
       "             height:  80%;\n",
       "            background:  linear-gradient(90deg, transparent 0%, transparent 0.0%, skyblue 0.0%, skyblue 100.0%, transparent 100.0%);\n",
       "        }    #T_3d55b950_7f62_11e9_86af_94942601c652row9_col1 {\n",
       "            width:  10em;\n",
       "             height:  80%;\n",
       "            background:  linear-gradient(90deg, transparent 0%, transparent 0.0%, skyblue 0.0%, skyblue 50.0%, transparent 50.0%);\n",
       "        }</style>  \n",
       "<table id=\"T_3d55b950_7f62_11e9_86af_94942601c652\" > \n",
       "<thead>    <tr> \n",
       "        <th class=\"blank level0\" ></th> \n",
       "        <th class=\"col_heading level0 col0\" >A</th> \n",
       "        <th class=\"col_heading level0 col1\" >B</th> \n",
       "    </tr></thead> \n",
       "<tbody>    <tr> \n",
       "        <th id=\"T_3d55b950_7f62_11e9_86af_94942601c652level0_row0\" class=\"row_heading level0 row0\" >0</th> \n",
       "        <td id=\"T_3d55b950_7f62_11e9_86af_94942601c652row0_col0\" class=\"data row0 col0\" >0</td> \n",
       "        <td id=\"T_3d55b950_7f62_11e9_86af_94942601c652row0_col1\" class=\"data row0 col1\" >nan</td> \n",
       "    </tr>    <tr> \n",
       "        <th id=\"T_3d55b950_7f62_11e9_86af_94942601c652level0_row1\" class=\"row_heading level0 row1\" >1</th> \n",
       "        <td id=\"T_3d55b950_7f62_11e9_86af_94942601c652row1_col0\" class=\"data row1 col0\" >10</td> \n",
       "        <td id=\"T_3d55b950_7f62_11e9_86af_94942601c652row1_col1\" class=\"data row1 col1\" >80</td> \n",
       "    </tr>    <tr> \n",
       "        <th id=\"T_3d55b950_7f62_11e9_86af_94942601c652level0_row2\" class=\"row_heading level0 row2\" >2</th> \n",
       "        <td id=\"T_3d55b950_7f62_11e9_86af_94942601c652row2_col0\" class=\"data row2 col0\" >20</td> \n",
       "        <td id=\"T_3d55b950_7f62_11e9_86af_94942601c652row2_col1\" class=\"data row2 col1\" >60</td> \n",
       "    </tr>    <tr> \n",
       "        <th id=\"T_3d55b950_7f62_11e9_86af_94942601c652level0_row3\" class=\"row_heading level0 row3\" >3</th> \n",
       "        <td id=\"T_3d55b950_7f62_11e9_86af_94942601c652row3_col0\" class=\"data row3 col0\" >30</td> \n",
       "        <td id=\"T_3d55b950_7f62_11e9_86af_94942601c652row3_col1\" class=\"data row3 col1\" >40</td> \n",
       "    </tr>    <tr> \n",
       "        <th id=\"T_3d55b950_7f62_11e9_86af_94942601c652level0_row4\" class=\"row_heading level0 row4\" >4</th> \n",
       "        <td id=\"T_3d55b950_7f62_11e9_86af_94942601c652row4_col0\" class=\"data row4 col0\" >40</td> \n",
       "        <td id=\"T_3d55b950_7f62_11e9_86af_94942601c652row4_col1\" class=\"data row4 col1\" >20</td> \n",
       "    </tr>    <tr> \n",
       "        <th id=\"T_3d55b950_7f62_11e9_86af_94942601c652level0_row5\" class=\"row_heading level0 row5\" >5</th> \n",
       "        <td id=\"T_3d55b950_7f62_11e9_86af_94942601c652row5_col0\" class=\"data row5 col0\" >nan</td> \n",
       "        <td id=\"T_3d55b950_7f62_11e9_86af_94942601c652row5_col1\" class=\"data row5 col1\" >0</td> \n",
       "    </tr>    <tr> \n",
       "        <th id=\"T_3d55b950_7f62_11e9_86af_94942601c652level0_row6\" class=\"row_heading level0 row6\" >6</th> \n",
       "        <td id=\"T_3d55b950_7f62_11e9_86af_94942601c652row6_col0\" class=\"data row6 col0\" >60</td> \n",
       "        <td id=\"T_3d55b950_7f62_11e9_86af_94942601c652row6_col1\" class=\"data row6 col1\" >-20</td> \n",
       "    </tr>    <tr> \n",
       "        <th id=\"T_3d55b950_7f62_11e9_86af_94942601c652level0_row7\" class=\"row_heading level0 row7\" >7</th> \n",
       "        <td id=\"T_3d55b950_7f62_11e9_86af_94942601c652row7_col0\" class=\"data row7 col0\" >70</td> \n",
       "        <td id=\"T_3d55b950_7f62_11e9_86af_94942601c652row7_col1\" class=\"data row7 col1\" >-40</td> \n",
       "    </tr>    <tr> \n",
       "        <th id=\"T_3d55b950_7f62_11e9_86af_94942601c652level0_row8\" class=\"row_heading level0 row8\" >8</th> \n",
       "        <td id=\"T_3d55b950_7f62_11e9_86af_94942601c652row8_col0\" class=\"data row8 col0\" >80</td> \n",
       "        <td id=\"T_3d55b950_7f62_11e9_86af_94942601c652row8_col1\" class=\"data row8 col1\" >-60</td> \n",
       "    </tr>    <tr> \n",
       "        <th id=\"T_3d55b950_7f62_11e9_86af_94942601c652level0_row9\" class=\"row_heading level0 row9\" >9</th> \n",
       "        <td id=\"T_3d55b950_7f62_11e9_86af_94942601c652row9_col0\" class=\"data row9 col0\" >100</td> \n",
       "        <td id=\"T_3d55b950_7f62_11e9_86af_94942601c652row9_col1\" class=\"data row9 col1\" >-80</td> \n",
       "    </tr></tbody> \n",
       "</table> "
      ],
      "text/plain": [
       "<pandas.io.formats.style.Styler at 0x118357128>"
      ]
     },
     "execution_count": 32,
     "metadata": {},
     "output_type": "execute_result"
    }
   ],
   "source": [
    "sample_df.style.bar(align='mid', color='skyblue')"
   ]
  },
  {
   "cell_type": "code",
   "execution_count": 33,
   "metadata": {
    "ExecuteTime": {
     "end_time": "2019-05-26T02:59:13.065372Z",
     "start_time": "2019-05-26T02:59:13.012396Z"
    }
   },
   "outputs": [
    {
     "data": {
      "text/html": [
       "<style  type=\"text/css\" >\n",
       "    #T_3db832c6_7f62_11e9_9b93_94942601c652row0_col0 {\n",
       "            width:  10em;\n",
       "             height:  80%;\n",
       "            background:  linear-gradient(90deg, transparent 0%, transparent 0.0%, red 0.0%, red 0.0%, transparent 0.0%);\n",
       "        }    #T_3db832c6_7f62_11e9_9b93_94942601c652row0_col1 {\n",
       "            width:  10em;\n",
       "             height:  80%;\n",
       "            background:  linear-gradient(90deg, transparent 0%, transparent nan%, red nan%, red 50.0%, transparent 50.0%);\n",
       "        }    #T_3db832c6_7f62_11e9_9b93_94942601c652row1_col0 {\n",
       "            width:  10em;\n",
       "             height:  80%;\n",
       "            background:  linear-gradient(90deg, transparent 0%, transparent 0.0%, lightgreen 0.0%, lightgreen 10.0%, transparent 10.0%);\n",
       "        }    #T_3db832c6_7f62_11e9_9b93_94942601c652row1_col1 {\n",
       "            width:  10em;\n",
       "             height:  80%;\n",
       "            background:  linear-gradient(90deg, transparent 0%, transparent 50.0%, lightgreen 50.0%, lightgreen 100.0%, transparent 100.0%);\n",
       "        }    #T_3db832c6_7f62_11e9_9b93_94942601c652row2_col0 {\n",
       "            width:  10em;\n",
       "             height:  80%;\n",
       "            background:  linear-gradient(90deg, transparent 0%, transparent 0.0%, lightgreen 0.0%, lightgreen 20.0%, transparent 20.0%);\n",
       "        }    #T_3db832c6_7f62_11e9_9b93_94942601c652row2_col1 {\n",
       "            width:  10em;\n",
       "             height:  80%;\n",
       "            background:  linear-gradient(90deg, transparent 0%, transparent 50.0%, lightgreen 50.0%, lightgreen 87.5%, transparent 87.5%);\n",
       "        }    #T_3db832c6_7f62_11e9_9b93_94942601c652row3_col0 {\n",
       "            width:  10em;\n",
       "             height:  80%;\n",
       "            background:  linear-gradient(90deg, transparent 0%, transparent 0.0%, lightgreen 0.0%, lightgreen 30.0%, transparent 30.0%);\n",
       "        }    #T_3db832c6_7f62_11e9_9b93_94942601c652row3_col1 {\n",
       "            width:  10em;\n",
       "             height:  80%;\n",
       "            background:  linear-gradient(90deg, transparent 0%, transparent 50.0%, lightgreen 50.0%, lightgreen 75.0%, transparent 75.0%);\n",
       "        }    #T_3db832c6_7f62_11e9_9b93_94942601c652row4_col0 {\n",
       "            width:  10em;\n",
       "             height:  80%;\n",
       "            background:  linear-gradient(90deg, transparent 0%, transparent 0.0%, lightgreen 0.0%, lightgreen 40.0%, transparent 40.0%);\n",
       "        }    #T_3db832c6_7f62_11e9_9b93_94942601c652row4_col1 {\n",
       "            width:  10em;\n",
       "             height:  80%;\n",
       "            background:  linear-gradient(90deg, transparent 0%, transparent 50.0%, lightgreen 50.0%, lightgreen 62.5%, transparent 62.5%);\n",
       "        }    #T_3db832c6_7f62_11e9_9b93_94942601c652row5_col0 {\n",
       "            width:  10em;\n",
       "             height:  80%;\n",
       "            background:  linear-gradient(90deg, transparent 0%, transparent nan%, red nan%, red 0.0%, transparent 0.0%);\n",
       "        }    #T_3db832c6_7f62_11e9_9b93_94942601c652row5_col1 {\n",
       "            width:  10em;\n",
       "             height:  80%;\n",
       "            background:  linear-gradient(90deg, transparent 0%, transparent 50.0%, red 50.0%, red 50.0%, transparent 50.0%);\n",
       "        }    #T_3db832c6_7f62_11e9_9b93_94942601c652row6_col0 {\n",
       "            width:  10em;\n",
       "             height:  80%;\n",
       "            background:  linear-gradient(90deg, transparent 0%, transparent 0.0%, lightgreen 0.0%, lightgreen 60.0%, transparent 60.0%);\n",
       "        }    #T_3db832c6_7f62_11e9_9b93_94942601c652row6_col1 {\n",
       "            width:  10em;\n",
       "             height:  80%;\n",
       "            background:  linear-gradient(90deg, transparent 0%, transparent 37.5%, red 37.5%, red 50.0%, transparent 50.0%);\n",
       "        }    #T_3db832c6_7f62_11e9_9b93_94942601c652row7_col0 {\n",
       "            width:  10em;\n",
       "             height:  80%;\n",
       "            background:  linear-gradient(90deg, transparent 0%, transparent 0.0%, lightgreen 0.0%, lightgreen 70.0%, transparent 70.0%);\n",
       "        }    #T_3db832c6_7f62_11e9_9b93_94942601c652row7_col1 {\n",
       "            width:  10em;\n",
       "             height:  80%;\n",
       "            background:  linear-gradient(90deg, transparent 0%, transparent 25.0%, red 25.0%, red 50.0%, transparent 50.0%);\n",
       "        }    #T_3db832c6_7f62_11e9_9b93_94942601c652row8_col0 {\n",
       "            width:  10em;\n",
       "             height:  80%;\n",
       "            background:  linear-gradient(90deg, transparent 0%, transparent 0.0%, lightgreen 0.0%, lightgreen 80.0%, transparent 80.0%);\n",
       "        }    #T_3db832c6_7f62_11e9_9b93_94942601c652row8_col1 {\n",
       "            width:  10em;\n",
       "             height:  80%;\n",
       "            background:  linear-gradient(90deg, transparent 0%, transparent 12.5%, red 12.5%, red 50.0%, transparent 50.0%);\n",
       "        }    #T_3db832c6_7f62_11e9_9b93_94942601c652row9_col0 {\n",
       "            width:  10em;\n",
       "             height:  80%;\n",
       "            background:  linear-gradient(90deg, transparent 0%, transparent 0.0%, lightgreen 0.0%, lightgreen 100.0%, transparent 100.0%);\n",
       "        }    #T_3db832c6_7f62_11e9_9b93_94942601c652row9_col1 {\n",
       "            width:  10em;\n",
       "             height:  80%;\n",
       "            background:  linear-gradient(90deg, transparent 0%, transparent 0.0%, red 0.0%, red 50.0%, transparent 50.0%);\n",
       "        }</style>  \n",
       "<table id=\"T_3db832c6_7f62_11e9_9b93_94942601c652\" > \n",
       "<thead>    <tr> \n",
       "        <th class=\"blank level0\" ></th> \n",
       "        <th class=\"col_heading level0 col0\" >A</th> \n",
       "        <th class=\"col_heading level0 col1\" >B</th> \n",
       "    </tr></thead> \n",
       "<tbody>    <tr> \n",
       "        <th id=\"T_3db832c6_7f62_11e9_9b93_94942601c652level0_row0\" class=\"row_heading level0 row0\" >0</th> \n",
       "        <td id=\"T_3db832c6_7f62_11e9_9b93_94942601c652row0_col0\" class=\"data row0 col0\" >0</td> \n",
       "        <td id=\"T_3db832c6_7f62_11e9_9b93_94942601c652row0_col1\" class=\"data row0 col1\" >nan</td> \n",
       "    </tr>    <tr> \n",
       "        <th id=\"T_3db832c6_7f62_11e9_9b93_94942601c652level0_row1\" class=\"row_heading level0 row1\" >1</th> \n",
       "        <td id=\"T_3db832c6_7f62_11e9_9b93_94942601c652row1_col0\" class=\"data row1 col0\" >10</td> \n",
       "        <td id=\"T_3db832c6_7f62_11e9_9b93_94942601c652row1_col1\" class=\"data row1 col1\" >80</td> \n",
       "    </tr>    <tr> \n",
       "        <th id=\"T_3db832c6_7f62_11e9_9b93_94942601c652level0_row2\" class=\"row_heading level0 row2\" >2</th> \n",
       "        <td id=\"T_3db832c6_7f62_11e9_9b93_94942601c652row2_col0\" class=\"data row2 col0\" >20</td> \n",
       "        <td id=\"T_3db832c6_7f62_11e9_9b93_94942601c652row2_col1\" class=\"data row2 col1\" >60</td> \n",
       "    </tr>    <tr> \n",
       "        <th id=\"T_3db832c6_7f62_11e9_9b93_94942601c652level0_row3\" class=\"row_heading level0 row3\" >3</th> \n",
       "        <td id=\"T_3db832c6_7f62_11e9_9b93_94942601c652row3_col0\" class=\"data row3 col0\" >30</td> \n",
       "        <td id=\"T_3db832c6_7f62_11e9_9b93_94942601c652row3_col1\" class=\"data row3 col1\" >40</td> \n",
       "    </tr>    <tr> \n",
       "        <th id=\"T_3db832c6_7f62_11e9_9b93_94942601c652level0_row4\" class=\"row_heading level0 row4\" >4</th> \n",
       "        <td id=\"T_3db832c6_7f62_11e9_9b93_94942601c652row4_col0\" class=\"data row4 col0\" >40</td> \n",
       "        <td id=\"T_3db832c6_7f62_11e9_9b93_94942601c652row4_col1\" class=\"data row4 col1\" >20</td> \n",
       "    </tr>    <tr> \n",
       "        <th id=\"T_3db832c6_7f62_11e9_9b93_94942601c652level0_row5\" class=\"row_heading level0 row5\" >5</th> \n",
       "        <td id=\"T_3db832c6_7f62_11e9_9b93_94942601c652row5_col0\" class=\"data row5 col0\" >nan</td> \n",
       "        <td id=\"T_3db832c6_7f62_11e9_9b93_94942601c652row5_col1\" class=\"data row5 col1\" >0</td> \n",
       "    </tr>    <tr> \n",
       "        <th id=\"T_3db832c6_7f62_11e9_9b93_94942601c652level0_row6\" class=\"row_heading level0 row6\" >6</th> \n",
       "        <td id=\"T_3db832c6_7f62_11e9_9b93_94942601c652row6_col0\" class=\"data row6 col0\" >60</td> \n",
       "        <td id=\"T_3db832c6_7f62_11e9_9b93_94942601c652row6_col1\" class=\"data row6 col1\" >-20</td> \n",
       "    </tr>    <tr> \n",
       "        <th id=\"T_3db832c6_7f62_11e9_9b93_94942601c652level0_row7\" class=\"row_heading level0 row7\" >7</th> \n",
       "        <td id=\"T_3db832c6_7f62_11e9_9b93_94942601c652row7_col0\" class=\"data row7 col0\" >70</td> \n",
       "        <td id=\"T_3db832c6_7f62_11e9_9b93_94942601c652row7_col1\" class=\"data row7 col1\" >-40</td> \n",
       "    </tr>    <tr> \n",
       "        <th id=\"T_3db832c6_7f62_11e9_9b93_94942601c652level0_row8\" class=\"row_heading level0 row8\" >8</th> \n",
       "        <td id=\"T_3db832c6_7f62_11e9_9b93_94942601c652row8_col0\" class=\"data row8 col0\" >80</td> \n",
       "        <td id=\"T_3db832c6_7f62_11e9_9b93_94942601c652row8_col1\" class=\"data row8 col1\" >-60</td> \n",
       "    </tr>    <tr> \n",
       "        <th id=\"T_3db832c6_7f62_11e9_9b93_94942601c652level0_row9\" class=\"row_heading level0 row9\" >9</th> \n",
       "        <td id=\"T_3db832c6_7f62_11e9_9b93_94942601c652row9_col0\" class=\"data row9 col0\" >100</td> \n",
       "        <td id=\"T_3db832c6_7f62_11e9_9b93_94942601c652row9_col1\" class=\"data row9 col1\" >-80</td> \n",
       "    </tr></tbody> \n",
       "</table> "
      ],
      "text/plain": [
       "<pandas.io.formats.style.Styler at 0x11831c0f0>"
      ]
     },
     "execution_count": 33,
     "metadata": {},
     "output_type": "execute_result"
    }
   ],
   "source": [
    "sample_df.style.bar(align='mid', color=['red', 'lightgreen'])"
   ]
  },
  {
   "cell_type": "markdown",
   "metadata": {},
   "source": [
    "# スタイルを適用する範囲を絞る"
   ]
  },
  {
   "cell_type": "code",
   "execution_count": 34,
   "metadata": {
    "ExecuteTime": {
     "end_time": "2019-05-26T02:59:14.282001Z",
     "start_time": "2019-05-26T02:59:14.251974Z"
    }
   },
   "outputs": [
    {
     "data": {
      "text/html": [
       "<style  type=\"text/css\" >\n",
       "    #T_3e72c17a_7f62_11e9_9d13_94942601c652row0_col0 {\n",
       "            width:  10em;\n",
       "             height:  80%;\n",
       "        }    #T_3e72c17a_7f62_11e9_9d13_94942601c652row1_col0 {\n",
       "            width:  10em;\n",
       "             height:  80%;\n",
       "            background:  linear-gradient(90deg,#d65f5f 10.0%, transparent 0%);\n",
       "        }    #T_3e72c17a_7f62_11e9_9d13_94942601c652row2_col0 {\n",
       "            width:  10em;\n",
       "             height:  80%;\n",
       "            background:  linear-gradient(90deg,#d65f5f 20.0%, transparent 0%);\n",
       "        }    #T_3e72c17a_7f62_11e9_9d13_94942601c652row3_col0 {\n",
       "            width:  10em;\n",
       "             height:  80%;\n",
       "            background:  linear-gradient(90deg,#d65f5f 30.0%, transparent 0%);\n",
       "        }    #T_3e72c17a_7f62_11e9_9d13_94942601c652row4_col0 {\n",
       "            width:  10em;\n",
       "             height:  80%;\n",
       "            background:  linear-gradient(90deg,#d65f5f 40.0%, transparent 0%);\n",
       "        }    #T_3e72c17a_7f62_11e9_9d13_94942601c652row5_col0 {\n",
       "            width:  10em;\n",
       "             height:  80%;\n",
       "        }    #T_3e72c17a_7f62_11e9_9d13_94942601c652row6_col0 {\n",
       "            width:  10em;\n",
       "             height:  80%;\n",
       "            background:  linear-gradient(90deg,#d65f5f 60.0%, transparent 0%);\n",
       "        }    #T_3e72c17a_7f62_11e9_9d13_94942601c652row7_col0 {\n",
       "            width:  10em;\n",
       "             height:  80%;\n",
       "            background:  linear-gradient(90deg,#d65f5f 70.0%, transparent 0%);\n",
       "        }    #T_3e72c17a_7f62_11e9_9d13_94942601c652row8_col0 {\n",
       "            width:  10em;\n",
       "             height:  80%;\n",
       "            background:  linear-gradient(90deg,#d65f5f 80.0%, transparent 0%);\n",
       "        }    #T_3e72c17a_7f62_11e9_9d13_94942601c652row9_col0 {\n",
       "            width:  10em;\n",
       "             height:  80%;\n",
       "            background:  linear-gradient(90deg,#d65f5f 100.0%, transparent 0%);\n",
       "        }</style>  \n",
       "<table id=\"T_3e72c17a_7f62_11e9_9d13_94942601c652\" > \n",
       "<thead>    <tr> \n",
       "        <th class=\"blank level0\" ></th> \n",
       "        <th class=\"col_heading level0 col0\" >A</th> \n",
       "        <th class=\"col_heading level0 col1\" >B</th> \n",
       "    </tr></thead> \n",
       "<tbody>    <tr> \n",
       "        <th id=\"T_3e72c17a_7f62_11e9_9d13_94942601c652level0_row0\" class=\"row_heading level0 row0\" >0</th> \n",
       "        <td id=\"T_3e72c17a_7f62_11e9_9d13_94942601c652row0_col0\" class=\"data row0 col0\" >0</td> \n",
       "        <td id=\"T_3e72c17a_7f62_11e9_9d13_94942601c652row0_col1\" class=\"data row0 col1\" >nan</td> \n",
       "    </tr>    <tr> \n",
       "        <th id=\"T_3e72c17a_7f62_11e9_9d13_94942601c652level0_row1\" class=\"row_heading level0 row1\" >1</th> \n",
       "        <td id=\"T_3e72c17a_7f62_11e9_9d13_94942601c652row1_col0\" class=\"data row1 col0\" >10</td> \n",
       "        <td id=\"T_3e72c17a_7f62_11e9_9d13_94942601c652row1_col1\" class=\"data row1 col1\" >80</td> \n",
       "    </tr>    <tr> \n",
       "        <th id=\"T_3e72c17a_7f62_11e9_9d13_94942601c652level0_row2\" class=\"row_heading level0 row2\" >2</th> \n",
       "        <td id=\"T_3e72c17a_7f62_11e9_9d13_94942601c652row2_col0\" class=\"data row2 col0\" >20</td> \n",
       "        <td id=\"T_3e72c17a_7f62_11e9_9d13_94942601c652row2_col1\" class=\"data row2 col1\" >60</td> \n",
       "    </tr>    <tr> \n",
       "        <th id=\"T_3e72c17a_7f62_11e9_9d13_94942601c652level0_row3\" class=\"row_heading level0 row3\" >3</th> \n",
       "        <td id=\"T_3e72c17a_7f62_11e9_9d13_94942601c652row3_col0\" class=\"data row3 col0\" >30</td> \n",
       "        <td id=\"T_3e72c17a_7f62_11e9_9d13_94942601c652row3_col1\" class=\"data row3 col1\" >40</td> \n",
       "    </tr>    <tr> \n",
       "        <th id=\"T_3e72c17a_7f62_11e9_9d13_94942601c652level0_row4\" class=\"row_heading level0 row4\" >4</th> \n",
       "        <td id=\"T_3e72c17a_7f62_11e9_9d13_94942601c652row4_col0\" class=\"data row4 col0\" >40</td> \n",
       "        <td id=\"T_3e72c17a_7f62_11e9_9d13_94942601c652row4_col1\" class=\"data row4 col1\" >20</td> \n",
       "    </tr>    <tr> \n",
       "        <th id=\"T_3e72c17a_7f62_11e9_9d13_94942601c652level0_row5\" class=\"row_heading level0 row5\" >5</th> \n",
       "        <td id=\"T_3e72c17a_7f62_11e9_9d13_94942601c652row5_col0\" class=\"data row5 col0\" >nan</td> \n",
       "        <td id=\"T_3e72c17a_7f62_11e9_9d13_94942601c652row5_col1\" class=\"data row5 col1\" >0</td> \n",
       "    </tr>    <tr> \n",
       "        <th id=\"T_3e72c17a_7f62_11e9_9d13_94942601c652level0_row6\" class=\"row_heading level0 row6\" >6</th> \n",
       "        <td id=\"T_3e72c17a_7f62_11e9_9d13_94942601c652row6_col0\" class=\"data row6 col0\" >60</td> \n",
       "        <td id=\"T_3e72c17a_7f62_11e9_9d13_94942601c652row6_col1\" class=\"data row6 col1\" >-20</td> \n",
       "    </tr>    <tr> \n",
       "        <th id=\"T_3e72c17a_7f62_11e9_9d13_94942601c652level0_row7\" class=\"row_heading level0 row7\" >7</th> \n",
       "        <td id=\"T_3e72c17a_7f62_11e9_9d13_94942601c652row7_col0\" class=\"data row7 col0\" >70</td> \n",
       "        <td id=\"T_3e72c17a_7f62_11e9_9d13_94942601c652row7_col1\" class=\"data row7 col1\" >-40</td> \n",
       "    </tr>    <tr> \n",
       "        <th id=\"T_3e72c17a_7f62_11e9_9d13_94942601c652level0_row8\" class=\"row_heading level0 row8\" >8</th> \n",
       "        <td id=\"T_3e72c17a_7f62_11e9_9d13_94942601c652row8_col0\" class=\"data row8 col0\" >80</td> \n",
       "        <td id=\"T_3e72c17a_7f62_11e9_9d13_94942601c652row8_col1\" class=\"data row8 col1\" >-60</td> \n",
       "    </tr>    <tr> \n",
       "        <th id=\"T_3e72c17a_7f62_11e9_9d13_94942601c652level0_row9\" class=\"row_heading level0 row9\" >9</th> \n",
       "        <td id=\"T_3e72c17a_7f62_11e9_9d13_94942601c652row9_col0\" class=\"data row9 col0\" >100</td> \n",
       "        <td id=\"T_3e72c17a_7f62_11e9_9d13_94942601c652row9_col1\" class=\"data row9 col1\" >-80</td> \n",
       "    </tr></tbody> \n",
       "</table> "
      ],
      "text/plain": [
       "<pandas.io.formats.style.Styler at 0x118357f60>"
      ]
     },
     "execution_count": 34,
     "metadata": {},
     "output_type": "execute_result"
    }
   ],
   "source": [
    "sample_df.style.bar(subset=['A'])"
   ]
  },
  {
   "cell_type": "markdown",
   "metadata": {},
   "source": [
    "# キャプションをつける(`set_caption`)"
   ]
  },
  {
   "cell_type": "code",
   "execution_count": 35,
   "metadata": {
    "ExecuteTime": {
     "end_time": "2019-05-26T02:59:15.431142Z",
     "start_time": "2019-05-26T02:59:15.403628Z"
    }
   },
   "outputs": [
    {
     "data": {
      "text/html": [
       "<style  type=\"text/css\" >\n",
       "    #T_3f22357e_7f62_11e9_b8aa_94942601c652row0_col0 {\n",
       "            color:  black;\n",
       "        }    #T_3f22357e_7f62_11e9_b8aa_94942601c652row0_col1 {\n",
       "            color:  black;\n",
       "        }    #T_3f22357e_7f62_11e9_b8aa_94942601c652row0_col2 {\n",
       "            color:  black;\n",
       "        }    #T_3f22357e_7f62_11e9_b8aa_94942601c652row1_col0 {\n",
       "            color:  red;\n",
       "        }    #T_3f22357e_7f62_11e9_b8aa_94942601c652row1_col1 {\n",
       "            color:  black;\n",
       "        }    #T_3f22357e_7f62_11e9_b8aa_94942601c652row1_col2 {\n",
       "            color:  black;\n",
       "        }    #T_3f22357e_7f62_11e9_b8aa_94942601c652row2_col0 {\n",
       "            color:  black;\n",
       "        }    #T_3f22357e_7f62_11e9_b8aa_94942601c652row2_col1 {\n",
       "            color:  black;\n",
       "        }    #T_3f22357e_7f62_11e9_b8aa_94942601c652row2_col2 {\n",
       "            color:  black;\n",
       "        }    #T_3f22357e_7f62_11e9_b8aa_94942601c652row3_col0 {\n",
       "            color:  black;\n",
       "        }    #T_3f22357e_7f62_11e9_b8aa_94942601c652row3_col1 {\n",
       "            color:  red;\n",
       "        }    #T_3f22357e_7f62_11e9_b8aa_94942601c652row3_col2 {\n",
       "            color:  black;\n",
       "        }</style>  \n",
       "<table id=\"T_3f22357e_7f62_11e9_b8aa_94942601c652\" ><caption>期末試験の結果</caption> \n",
       "<thead>    <tr> \n",
       "        <th class=\"blank level0\" ></th> \n",
       "        <th class=\"col_heading level0 col0\" >Araki</th> \n",
       "        <th class=\"col_heading level0 col1\" >Baba</th> \n",
       "        <th class=\"col_heading level0 col2\" >Chou</th> \n",
       "    </tr>    <tr> \n",
       "        <th class=\"index_name level0\" >index</th> \n",
       "        <th class=\"blank\" ></th> \n",
       "        <th class=\"blank\" ></th> \n",
       "        <th class=\"blank\" ></th> \n",
       "    </tr></thead> \n",
       "<tbody>    <tr> \n",
       "        <th id=\"T_3f22357e_7f62_11e9_b8aa_94942601c652level0_row0\" class=\"row_heading level0 row0\" >国語</th> \n",
       "        <td id=\"T_3f22357e_7f62_11e9_b8aa_94942601c652row0_col0\" class=\"data row0 col0\" >75</td> \n",
       "        <td id=\"T_3f22357e_7f62_11e9_b8aa_94942601c652row0_col1\" class=\"data row0 col1\" >80</td> \n",
       "        <td id=\"T_3f22357e_7f62_11e9_b8aa_94942601c652row0_col2\" class=\"data row0 col2\" >95</td> \n",
       "    </tr>    <tr> \n",
       "        <th id=\"T_3f22357e_7f62_11e9_b8aa_94942601c652level0_row1\" class=\"row_heading level0 row1\" >数学</th> \n",
       "        <td id=\"T_3f22357e_7f62_11e9_b8aa_94942601c652row1_col0\" class=\"data row1 col0\" >55</td> \n",
       "        <td id=\"T_3f22357e_7f62_11e9_b8aa_94942601c652row1_col1\" class=\"data row1 col1\" >80</td> \n",
       "        <td id=\"T_3f22357e_7f62_11e9_b8aa_94942601c652row1_col2\" class=\"data row1 col2\" >70</td> \n",
       "    </tr>    <tr> \n",
       "        <th id=\"T_3f22357e_7f62_11e9_b8aa_94942601c652level0_row2\" class=\"row_heading level0 row2\" >理科</th> \n",
       "        <td id=\"T_3f22357e_7f62_11e9_b8aa_94942601c652row2_col0\" class=\"data row2 col0\" >80</td> \n",
       "        <td id=\"T_3f22357e_7f62_11e9_b8aa_94942601c652row2_col1\" class=\"data row2 col1\" >90</td> \n",
       "        <td id=\"T_3f22357e_7f62_11e9_b8aa_94942601c652row2_col2\" class=\"data row2 col2\" >85</td> \n",
       "    </tr>    <tr> \n",
       "        <th id=\"T_3f22357e_7f62_11e9_b8aa_94942601c652level0_row3\" class=\"row_heading level0 row3\" >社会</th> \n",
       "        <td id=\"T_3f22357e_7f62_11e9_b8aa_94942601c652row3_col0\" class=\"data row3 col0\" >90</td> \n",
       "        <td id=\"T_3f22357e_7f62_11e9_b8aa_94942601c652row3_col1\" class=\"data row3 col1\" >30</td> \n",
       "        <td id=\"T_3f22357e_7f62_11e9_b8aa_94942601c652row3_col2\" class=\"data row3 col2\" >70</td> \n",
       "    </tr></tbody> \n",
       "</table> "
      ],
      "text/plain": [
       "<pandas.io.formats.style.Styler at 0x11831c2b0>"
      ]
     },
     "execution_count": 35,
     "metadata": {},
     "output_type": "execute_result"
    }
   ],
   "source": [
    "exam_df.style.applymap(color_red_akaten).set_caption(\"期末試験の結果\")"
   ]
  },
  {
   "cell_type": "markdown",
   "metadata": {},
   "source": [
    "# Excelにスタイル付でエクスポートする"
   ]
  },
  {
   "cell_type": "markdown",
   "metadata": {},
   "source": [
    "## to_excel\n",
    "openpyxlを別途インストールする必要があります。"
   ]
  },
  {
   "cell_type": "code",
   "execution_count": 36,
   "metadata": {
    "ExecuteTime": {
     "end_time": "2019-05-26T02:59:17.413464Z",
     "start_time": "2019-05-26T02:59:16.875350Z"
    }
   },
   "outputs": [],
   "source": [
    "exam_df.style.highlight_max().to_excel('exam_df.xlsx')"
   ]
  },
  {
   "cell_type": "markdown",
   "metadata": {},
   "source": [
    "# Stylingの注意点"
   ]
  },
  {
   "cell_type": "markdown",
   "metadata": {
    "ExecuteTime": {
     "end_time": "2019-05-25T08:51:04.710336Z",
     "start_time": "2019-05-25T08:51:04.659585Z"
    }
   },
   "source": [
    "- まだ開発途上だよ\n",
    "- スタイルのデコりすぎに注意しよう\n",
    "    - コードがどんどん長くなる\n",
    "- GitHubにupしたときはスタイルが消えるよ\n",
    "    - nbviewerを使うとスタイルが保持されるよ"
   ]
  },
  {
   "cell_type": "markdown",
   "metadata": {},
   "source": [
    "# より詳しくは\n",
    "**User Guide**   \n",
    "https://pandas.pydata.org/pandas-docs/stable/user_guide/style.html   \n",
    "\n",
    "**API Reference**   \n",
    "https://pandas.pydata.org/pandas-docs/stable/reference/style.html"
   ]
  }
 ],
 "metadata": {
  "hide_input": false,
  "kernelspec": {
   "display_name": "Environment (conda_pepmap_env)",
   "language": "python",
   "name": "conda_pepmap_env"
  },
  "language_info": {
   "codemirror_mode": {
    "name": "ipython",
    "version": 3
   },
   "file_extension": ".py",
   "mimetype": "text/x-python",
   "name": "python",
   "nbconvert_exporter": "python",
   "pygments_lexer": "ipython3",
   "version": "3.6.2"
  },
  "nbTranslate": {
   "displayLangs": [
    "*"
   ],
   "hotkey": "alt-t",
   "langInMainMenu": true,
   "sourceLang": "en",
   "targetLang": "fr",
   "useGoogleTranslate": true
  },
  "toc": {
   "base_numbering": 1,
   "nav_menu": {},
   "number_sections": true,
   "sideBar": true,
   "skip_h1_title": false,
   "title_cell": "Table of Contents",
   "title_sidebar": "Contents",
   "toc_cell": false,
   "toc_position": {},
   "toc_section_display": true,
   "toc_window_display": true
  },
  "varInspector": {
   "cols": {
    "lenName": 16,
    "lenType": 16,
    "lenVar": 40
   },
   "kernels_config": {
    "python": {
     "delete_cmd_postfix": "",
     "delete_cmd_prefix": "del ",
     "library": "var_list.py",
     "varRefreshCmd": "print(var_dic_list())"
    },
    "r": {
     "delete_cmd_postfix": ") ",
     "delete_cmd_prefix": "rm(",
     "library": "var_list.r",
     "varRefreshCmd": "cat(var_dic_list()) "
    }
   },
   "types_to_exclude": [
    "module",
    "function",
    "builtin_function_or_method",
    "instance",
    "_Feature"
   ],
   "window_display": false
  }
 },
 "nbformat": 4,
 "nbformat_minor": 2
}
